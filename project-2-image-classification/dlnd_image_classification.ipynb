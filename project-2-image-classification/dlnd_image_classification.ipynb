{
 "cells": [
  {
   "cell_type": "markdown",
   "metadata": {
    "collapsed": true,
    "deletable": true,
    "editable": true
   },
   "source": [
    "# Image Classification\n",
    "In this project, you'll classify images from the [CIFAR-10 dataset](https://www.cs.toronto.edu/~kriz/cifar.html).  The dataset consists of airplanes, dogs, cats, and other objects. You'll preprocess the images, then train a convolutional neural network on all the samples. The images need to be normalized and the labels need to be one-hot encoded.  You'll get to apply what you learned and build a convolutional, max pooling, dropout, and fully connected layers.  At the end, you'll get to see your neural network's predictions on the sample images.\n",
    "## Get the Data\n",
    "Run the following cell to download the [CIFAR-10 dataset for python](https://www.cs.toronto.edu/~kriz/cifar-10-python.tar.gz)."
   ]
  },
  {
   "cell_type": "code",
   "execution_count": 2,
   "metadata": {
    "collapsed": false,
    "deletable": true,
    "editable": true
   },
   "outputs": [
    {
     "name": "stdout",
     "output_type": "stream",
     "text": [
      "All files found!\n"
     ]
    }
   ],
   "source": [
    "\"\"\"\n",
    "DON'T MODIFY ANYTHING IN THIS CELL THAT IS BELOW THIS LINE\n",
    "\"\"\"\n",
    "from urllib.request import urlretrieve\n",
    "from os.path import isfile, isdir\n",
    "from tqdm import tqdm\n",
    "import problem_unittests as tests\n",
    "import tarfile\n",
    "\n",
    "cifar10_dataset_folder_path = 'cifar-10-batches-py'\n",
    "\n",
    "# Use Floyd's cifar-10 dataset if present\n",
    "floyd_cifar10_location = '/input/cifar-10/python.tar.gz'\n",
    "if isfile(floyd_cifar10_location):\n",
    "    tar_gz_path = floyd_cifar10_location\n",
    "else:\n",
    "    tar_gz_path = 'cifar-10-python.tar.gz'\n",
    "\n",
    "class DLProgress(tqdm):\n",
    "    last_block = 0\n",
    "\n",
    "    def hook(self, block_num=1, block_size=1, total_size=None):\n",
    "        self.total = total_size\n",
    "        self.update((block_num - self.last_block) * block_size)\n",
    "        self.last_block = block_num\n",
    "\n",
    "if not isfile(tar_gz_path):\n",
    "    with DLProgress(unit='B', unit_scale=True, miniters=1, desc='CIFAR-10 Dataset') as pbar:\n",
    "        urlretrieve(\n",
    "            'https://www.cs.toronto.edu/~kriz/cifar-10-python.tar.gz',\n",
    "            tar_gz_path,\n",
    "            pbar.hook)\n",
    "\n",
    "if not isdir(cifar10_dataset_folder_path):\n",
    "    with tarfile.open(tar_gz_path) as tar:\n",
    "        tar.extractall()\n",
    "        tar.close()\n",
    "\n",
    "\n",
    "tests.test_folder_path(cifar10_dataset_folder_path)"
   ]
  },
  {
   "cell_type": "markdown",
   "metadata": {
    "deletable": true,
    "editable": true
   },
   "source": [
    "## Explore the Data\n",
    "The dataset is broken into batches to prevent your machine from running out of memory.  The CIFAR-10 dataset consists of 5 batches, named `data_batch_1`, `data_batch_2`, etc.. Each batch contains the labels and images that are one of the following:\n",
    "* airplane\n",
    "* automobile\n",
    "* bird\n",
    "* cat\n",
    "* deer\n",
    "* dog\n",
    "* frog\n",
    "* horse\n",
    "* ship\n",
    "* truck\n",
    "\n",
    "Understanding a dataset is part of making predictions on the data.  Play around with the code cell below by changing the `batch_id` and `sample_id`. The `batch_id` is the id for a batch (1-5). The `sample_id` is the id for a image and label pair in the batch.\n",
    "\n",
    "Ask yourself \"What are all possible labels?\", \"What is the range of values for the image data?\", \"Are the labels in order or random?\".  Answers to questions like these will help you preprocess the data and end up with better predictions."
   ]
  },
  {
   "cell_type": "code",
   "execution_count": 3,
   "metadata": {
    "collapsed": false,
    "deletable": true,
    "editable": true
   },
   "outputs": [
    {
     "name": "stdout",
     "output_type": "stream",
     "text": [
      "\n",
      "Stats of batch 1:\n",
      "Samples: 10000\n",
      "Label Counts: {0: 1005, 1: 974, 2: 1032, 3: 1016, 4: 999, 5: 937, 6: 1030, 7: 1001, 8: 1025, 9: 981}\n",
      "First 20 Labels: [6, 9, 9, 4, 1, 1, 2, 7, 8, 3, 4, 7, 7, 2, 9, 9, 9, 3, 2, 6]\n",
      "\n",
      "Example of Image 5:\n",
      "Image - Min Value: 0 Max Value: 252\n",
      "Image - Shape: (32, 32, 3)\n",
      "Label - Label Id: 1 Name: automobile\n"
     ]
    },
    {
     "data": {
      "image/png": "[encoded data removed]",
      "text/plain": [
       "<matplotlib.figure.Figure at 0x7fe97418a860>"
      ]
     },
     "metadata": {
      "image/png": {
       "height": 250,
       "width": 253
      }
     },
     "output_type": "display_data"
    }
   ],
   "source": [
    "%matplotlib inline\n",
    "%config InlineBackend.figure_format = 'retina'\n",
    "\n",
    "import helper\n",
    "import numpy as np\n",
    "\n",
    "# Explore the dataset\n",
    "batch_id = 1\n",
    "sample_id = 5\n",
    "helper.display_stats(cifar10_dataset_folder_path, batch_id, sample_id)"
   ]
  },
  {
   "cell_type": "markdown",
   "metadata": {
    "deletable": true,
    "editable": true
   },
   "source": [
    "## Implement Preprocess Functions\n",
    "### Normalize\n",
    "In the cell below, implement the `normalize` function to take in image data, `x`, and return it as a normalized Numpy array. The values should be in the range of 0 to 1, inclusive.  The return object should be the same shape as `x`."
   ]
  },
  {
   "cell_type": "code",
   "execution_count": 4,
   "metadata": {
    "collapsed": false,
    "deletable": true,
    "editable": true
   },
   "outputs": [
    {
     "name": "stdout",
     "output_type": "stream",
     "text": [
      "Tests Passed\n"
     ]
    }
   ],
   "source": [
    "def normalize(x):\n",
    "    \"\"\"\n",
    "    Normalize a list of sample image data in the range of 0 to 1\n",
    "    : x: List of image data.  The image shape is (32, 32, 3)\n",
    "    : return: Numpy array of normalize data\n",
    "    \"\"\"\n",
    "    # TODO: Implement Function\n",
    "    #return (x-0)/(255-0)\n",
    "    normalized_image = np.array (x / x.max())\n",
    "    return normalized_image\n",
    "\n",
    "\n",
    "\"\"\"\n",
    "DON'T MODIFY ANYTHING IN THIS CELL THAT IS BELOW THIS LINE\n",
    "\"\"\"\n",
    "tests.test_normalize(normalize)"
   ]
  },
  {
   "cell_type": "markdown",
   "metadata": {
    "deletable": true,
    "editable": true
   },
   "source": [
    "### One-hot encode\n",
    "Just like the previous code cell, you'll be implementing a function for preprocessing.  This time, you'll implement the `one_hot_encode` function. The input, `x`, are a list of labels.  Implement the function to return the list of labels as One-Hot encoded Numpy array.  The possible values for labels are 0 to 9. The one-hot encoding function should return the same encoding for each value between each call to `one_hot_encode`.  Make sure to save the map of encodings outside the function.\n",
    "\n",
    "Hint: Don't reinvent the wheel."
   ]
  },
  {
   "cell_type": "code",
   "execution_count": 5,
   "metadata": {
    "collapsed": false,
    "deletable": true,
    "editable": true
   },
   "outputs": [
    {
     "name": "stdout",
     "output_type": "stream",
     "text": [
      "Tests Passed\n"
     ]
    }
   ],
   "source": [
    "def one_hot_encode(x):\n",
    "    \"\"\"\n",
    "    One hot encode a list of sample labels. Return a one-hot encoded vector for each label.\n",
    "    : x: List of sample Labels\n",
    "    : return: Numpy array of one-hot encoded labels\n",
    "    \"\"\"\n",
    "    # TODO: Implement Function\n",
    "    #print(x[2])\n",
    "    one_hot = np.zeros((len(x), 10))\n",
    "    for i in range(len(x)):\n",
    "        one_hot[i,x[i]] = 1\n",
    "    return one_hot\n",
    "\n",
    "\n",
    "\"\"\"\n",
    "DON'T MODIFY ANYTHING IN THIS CELL THAT IS BELOW THIS LINE\n",
    "\"\"\"\n",
    "tests.test_one_hot_encode(one_hot_encode)"
   ]
  },
  {
   "cell_type": "markdown",
   "metadata": {
    "deletable": true,
    "editable": true
   },
   "source": [
    "### Randomize Data\n",
    "As you saw from exploring the data above, the order of the samples are randomized.  It doesn't hurt to randomize it again, but you don't need to for this dataset."
   ]
  },
  {
   "cell_type": "markdown",
   "metadata": {
    "deletable": true,
    "editable": true
   },
   "source": [
    "## Preprocess all the data and save it\n",
    "Running the code cell below will preprocess all the CIFAR-10 data and save it to file. The code below also uses 10% of the training data for validation."
   ]
  },
  {
   "cell_type": "code",
   "execution_count": 6,
   "metadata": {
    "collapsed": false,
    "deletable": true,
    "editable": true
   },
   "outputs": [],
   "source": [
    "\"\"\"\n",
    "DON'T MODIFY ANYTHING IN THIS CELL\n",
    "\"\"\"\n",
    "# Preprocess Training, Validation, and Testing Data\n",
    "helper.preprocess_and_save_data(cifar10_dataset_folder_path, normalize, one_hot_encode)"
   ]
  },
  {
   "cell_type": "markdown",
   "metadata": {
    "deletable": true,
    "editable": true
   },
   "source": [
    "# Check Point\n",
    "This is your first checkpoint.  If you ever decide to come back to this notebook or have to restart the notebook, you can start from here.  The preprocessed data has been saved to disk."
   ]
  },
  {
   "cell_type": "code",
   "execution_count": 7,
   "metadata": {
    "collapsed": false,
    "deletable": true,
    "editable": true
   },
   "outputs": [],
   "source": [
    "\"\"\"\n",
    "DON'T MODIFY ANYTHING IN THIS CELL\n",
    "\"\"\"\n",
    "import pickle\n",
    "import problem_unittests as tests\n",
    "import helper\n",
    "\n",
    "# Load the Preprocessed Validation data\n",
    "valid_features, valid_labels = pickle.load(open('preprocess_validation.p', mode='rb'))"
   ]
  },
  {
   "cell_type": "markdown",
   "metadata": {
    "deletable": true,
    "editable": true
   },
   "source": [
    "## Build the network\n",
    "For the neural network, you'll build each layer into a function.  Most of the code you've seen has been outside of functions. To test your code more thoroughly, we require that you put each layer in a function.  This allows us to give you better feedback and test for simple mistakes using our unittests before you submit your project.\n",
    "\n",
    ">**Note:** If you're finding it hard to dedicate enough time for this course each week, we've provided a small shortcut to this part of the project. In the next couple of problems, you'll have the option to use classes from the [TensorFlow Layers](https://www.tensorflow.org/api_docs/python/tf/layers) or [TensorFlow Layers (contrib)](https://www.tensorflow.org/api_guides/python/contrib.layers) packages to build each layer, except the layers you build in the \"Convolutional and Max Pooling Layer\" section.  TF Layers is similar to Keras's and TFLearn's abstraction to layers, so it's easy to pickup.\n",
    "\n",
    ">However, if you would like to get the most out of this course, try to solve all the problems _without_ using anything from the TF Layers packages. You **can** still use classes from other packages that happen to have the same name as ones you find in TF Layers! For example, instead of using the TF Layers version of the `conv2d` class, [tf.layers.conv2d](https://www.tensorflow.org/api_docs/python/tf/layers/conv2d), you would want to use the TF Neural Network version of `conv2d`, [tf.nn.conv2d](https://www.tensorflow.org/api_docs/python/tf/nn/conv2d). \n",
    "\n",
    "Let's begin!\n",
    "\n",
    "### Input\n",
    "The neural network needs to read the image data, one-hot encoded labels, and dropout keep probability. Implement the following functions\n",
    "* Implement `neural_net_image_input`\n",
    " * Return a [TF Placeholder](https://www.tensorflow.org/api_docs/python/tf/placeholder)\n",
    " * Set the shape using `image_shape` with batch size set to `None`.\n",
    " * Name the TensorFlow placeholder \"x\" using the TensorFlow `name` parameter in the [TF Placeholder](https://www.tensorflow.org/api_docs/python/tf/placeholder).\n",
    "* Implement `neural_net_label_input`\n",
    " * Return a [TF Placeholder](https://www.tensorflow.org/api_docs/python/tf/placeholder)\n",
    " * Set the shape using `n_classes` with batch size set to `None`.\n",
    " * Name the TensorFlow placeholder \"y\" using the TensorFlow `name` parameter in the [TF Placeholder](https://www.tensorflow.org/api_docs/python/tf/placeholder).\n",
    "* Implement `neural_net_keep_prob_input`\n",
    " * Return a [TF Placeholder](https://www.tensorflow.org/api_docs/python/tf/placeholder) for dropout keep probability.\n",
    " * Name the TensorFlow placeholder \"keep_prob\" using the TensorFlow `name` parameter in the [TF Placeholder](https://www.tensorflow.org/api_docs/python/tf/placeholder).\n",
    "\n",
    "These names will be used at the end of the project to load your saved model.\n",
    "\n",
    "Note: `None` for shapes in TensorFlow allow for a dynamic size."
   ]
  },
  {
   "cell_type": "code",
   "execution_count": 8,
   "metadata": {
    "collapsed": false,
    "deletable": true,
    "editable": true
   },
   "outputs": [
    {
     "name": "stdout",
     "output_type": "stream",
     "text": [
      "Image Input Tests Passed.\n",
      "Label Input Tests Passed.\n",
      "Keep Prob Tests Passed.\n"
     ]
    }
   ],
   "source": [
    "import tensorflow as tf\n",
    "\n",
    "def neural_net_image_input(image_shape):\n",
    "    \"\"\"\n",
    "    Return a Tensor for a bach of image input\n",
    "    : image_shape: Shape of the images\n",
    "    : return: Tensor for image input.\n",
    "    \"\"\"\n",
    "    # TODO: Implement Function\n",
    "    #print(image_shape[0])\n",
    "    return tf.placeholder(tf.float32, [None, image_shape[0], image_shape[1], image_shape[2]], \"x\" )\n",
    "\n",
    "\n",
    "def neural_net_label_input(n_classes):\n",
    "    \"\"\"\n",
    "    Return a Tensor for a batch of label input\n",
    "    : n_classes: Number of classes\n",
    "    : return: Tensor for label input.\n",
    "    \"\"\"\n",
    "    # TODO: Implement Function\n",
    "    return tf.placeholder(tf.float32, [None, n_classes], \"y\")\n",
    "\n",
    "\n",
    "def neural_net_keep_prob_input():\n",
    "    \"\"\"\n",
    "    Return a Tensor for keep probability\n",
    "    : return: Tensor for keep probability.\n",
    "    \"\"\"\n",
    "    # TODO: Implement Function\n",
    "    return tf.placeholder(tf.float32, None, \"keep_prob\")\n",
    "\n",
    "\n",
    "\"\"\"\n",
    "DON'T MODIFY ANYTHING IN THIS CELL THAT IS BELOW THIS LINE\n",
    "\"\"\"\n",
    "tf.reset_default_graph()\n",
    "tests.test_nn_image_inputs(neural_net_image_input)\n",
    "tests.test_nn_label_inputs(neural_net_label_input)\n",
    "tests.test_nn_keep_prob_inputs(neural_net_keep_prob_input)"
   ]
  },
  {
   "cell_type": "markdown",
   "metadata": {
    "deletable": true,
    "editable": true
   },
   "source": [
    "### Convolution and Max Pooling Layer\n",
    "Convolution layers have a lot of success with images. For this code cell, you should implement the function `conv2d_maxpool` to apply convolution then max pooling:\n",
    "* Create the weight and bias using `conv_ksize`, `conv_num_outputs` and the shape of `x_tensor`.\n",
    "* Apply a convolution to `x_tensor` using weight and `conv_strides`.\n",
    " * We recommend you use same padding, but you're welcome to use any padding.\n",
    "* Add bias\n",
    "* Add a nonlinear activation to the convolution.\n",
    "* Apply Max Pooling using `pool_ksize` and `pool_strides`.\n",
    " * We recommend you use same padding, but you're welcome to use any padding.\n",
    "\n",
    "**Note:** You **can't** use [TensorFlow Layers](https://www.tensorflow.org/api_docs/python/tf/layers) or [TensorFlow Layers (contrib)](https://www.tensorflow.org/api_guides/python/contrib.layers) for **this** layer, but you can still use TensorFlow's [Neural Network](https://www.tensorflow.org/api_docs/python/tf/nn) package. You may still use the shortcut option for all the **other** layers."
   ]
  },
  {
   "cell_type": "code",
   "execution_count": 11,
   "metadata": {
    "collapsed": false,
    "deletable": true,
    "editable": true
   },
   "outputs": [
    {
     "name": "stdout",
     "output_type": "stream",
     "text": [
      "Tests Passed\n"
     ]
    }
   ],
   "source": [
    "def conv2d_maxpool(x_tensor, conv_num_outputs, conv_ksize, conv_strides, pool_ksize, pool_strides):\n",
    "    \"\"\"\n",
    "    Apply convolution then max pooling to x_tensor\n",
    "    :param x_tensor: TensorFlow Tensor\n",
    "    :param conv_num_outputs: Number of outputs for the convolutional layer\n",
    "    :param conv_ksize: kernal size 2-D Tuple for the convolutional layer\n",
    "    :param conv_strides: Stride 2-D Tuple for convolution\n",
    "    :param pool_ksize: kernal size 2-D Tuple for pool\n",
    "    :param pool_strides: Stride 2-D Tuple for pool\n",
    "    : return: A tensor that represents convolution and max pooling of x_tensor\n",
    "    \"\"\"\n",
    "    # TODO: Implement Function\n",
    "    \"\"\"\n",
    "    \n",
    "    \"\"\"\n",
    "    Weights = tf.Variable(tf.truncated_normal([conv_ksize[0], conv_ksize[1], x_tensor.get_shape().as_list()[3], conv_num_outputs],mean=0.0,stddev = 0.1))\n",
    "    bias = tf.Variable(tf.zeros([conv_num_outputs]))            \n",
    "    y = tf.nn.conv2d(x_tensor, Weights, strides=[1, conv_strides[0], conv_strides[1], 1], padding='SAME')\n",
    "    y = tf.nn.bias_add(y, bias)        \n",
    "    y = tf.nn.relu(y)\n",
    "    y = tf.nn.max_pool(y, ksize=[1, pool_ksize[0], pool_ksize[1], 1], strides=[1, pool_strides[0], pool_strides[1], 1], padding='SAME')      \n",
    "    return y\n",
    "\n",
    "\"\"\"\n",
    "DON'T MODIFY ANYTHING IN THIS CELL THAT IS BELOW THIS LINE\n",
    "\"\"\"\n",
    "tests.test_con_pool(conv2d_maxpool)"
   ]
  },
  {
   "cell_type": "markdown",
   "metadata": {
    "deletable": true,
    "editable": true
   },
   "source": [
    "### Flatten Layer\n",
    "Implement the `flatten` function to change the dimension of `x_tensor` from a 4-D tensor to a 2-D tensor.  The output should be the shape (*Batch Size*, *Flattened Image Size*). Shortcut option: you can use classes from the [TensorFlow Layers](https://www.tensorflow.org/api_docs/python/tf/layers) or [TensorFlow Layers (contrib)](https://www.tensorflow.org/api_guides/python/contrib.layers) packages for this layer. For more of a challenge, only use other TensorFlow packages."
   ]
  },
  {
   "cell_type": "code",
   "execution_count": 144,
   "metadata": {
    "collapsed": false,
    "deletable": true,
    "editable": true
   },
   "outputs": [
    {
     "name": "stdout",
     "output_type": "stream",
     "text": [
      "Tests Passed\n"
     ]
    }
   ],
   "source": [
    "def flatten(x_tensor):\n",
    "    \"\"\"\n",
    "    Flatten x_tensor to (Batch Size, Flattened Image Size)\n",
    "    : x_tensor: A tensor of size (Batch Size, ...), where ... are the image dimensions.\n",
    "    : return: A tensor of size (Batch Size, Flattened Image Size).\n",
    "    \"\"\"\n",
    "    # TODO: Implement Function\n",
    "    #s = x_tensor.get_shape()\n",
    "    #flatten_image_size = np.prod([i for i in s[1:]])\n",
    "    #print(flatten_image_size)\n",
    "    #new_s = [-1, flatten_image_size.value]\n",
    "    #return tf.reshape(x_tensor, new_s)\n",
    "    flatImageSize = x_tensor.get_shape().as_list()[1]*x_tensor.get_shape().as_list()[2]*x_tensor.get_shape().as_list()[3]\n",
    "    res = tf.reshape(x_tensor, [-1,flatImageSize])\n",
    "    return res\n",
    "\n",
    "\n",
    "\"\"\"\n",
    "DON'T MODIFY ANYTHING IN THIS CELL THAT IS BELOW THIS LINE\n",
    "\"\"\"\n",
    "tests.test_flatten(flatten)"
   ]
  },
  {
   "cell_type": "markdown",
   "metadata": {
    "deletable": true,
    "editable": true
   },
   "source": [
    "### Fully-Connected Layer\n",
    "Implement the `fully_conn` function to apply a fully connected layer to `x_tensor` with the shape (*Batch Size*, *num_outputs*). Shortcut option: you can use classes from the [TensorFlow Layers](https://www.tensorflow.org/api_docs/python/tf/layers) or [TensorFlow Layers (contrib)](https://www.tensorflow.org/api_guides/python/contrib.layers) packages for this layer. For more of a challenge, only use other TensorFlow packages."
   ]
  },
  {
   "cell_type": "code",
   "execution_count": 145,
   "metadata": {
    "collapsed": false,
    "deletable": true,
    "editable": true
   },
   "outputs": [
    {
     "name": "stdout",
     "output_type": "stream",
     "text": [
      "Tests Passed\n"
     ]
    }
   ],
   "source": [
    "\n",
    "\n",
    "def fully_conn(x_tensor, num_outputs):\n",
    "    \"\"\"\n",
    "    Apply a fully connected layer to x_tensor using weight and bias\n",
    "    : x_tensor: A 2-D tensor where the first dimension is batch size.\n",
    "    : num_outputs: The number of output that the new tensor should be.\n",
    "    : return: A 2-D tensor where the second dimension is num_outputs.\n",
    "    \"\"\"\n",
    "    # TODO: Implement Function\n",
    "    #return tfl.layers.dense(inputs=x_tensor, units=num_outputs, activation=tf.nn.relu)\n",
    "    return tf.contrib.layers.fully_connected(inputs=x_tensor, num_outputs = num_outputs, activation_fn=tf.nn.relu)\n",
    "\n",
    "\n",
    "\"\"\"\n",
    "DON'T MODIFY ANYTHING IN THIS CELL THAT IS BELOW THIS LINE\n",
    "\"\"\"\n",
    "tests.test_fully_conn(fully_conn)"
   ]
  },
  {
   "cell_type": "markdown",
   "metadata": {
    "deletable": true,
    "editable": true
   },
   "source": [
    "### Output Layer\n",
    "Implement the `output` function to apply a fully connected layer to `x_tensor` with the shape (*Batch Size*, *num_outputs*). Shortcut option: you can use classes from the [TensorFlow Layers](https://www.tensorflow.org/api_docs/python/tf/layers) or [TensorFlow Layers (contrib)](https://www.tensorflow.org/api_guides/python/contrib.layers) packages for this layer. For more of a challenge, only use other TensorFlow packages.\n",
    "\n",
    "**Note:** Activation, softmax, or cross entropy should **not** be applied to this."
   ]
  },
  {
   "cell_type": "code",
   "execution_count": 152,
   "metadata": {
    "collapsed": false,
    "deletable": true,
    "editable": true
   },
   "outputs": [
    {
     "name": "stdout",
     "output_type": "stream",
     "text": [
      "Tests Passed\n"
     ]
    }
   ],
   "source": [
    "def output(x_tensor, num_outputs):\n",
    "    \"\"\"\n",
    "    Apply a output layer to x_tensor using weight and bias\n",
    "    : x_tensor: A 2-D tensor where the first dimension is batch size.\n",
    "    : num_outputs: The number of output that the new tensor should be.\n",
    "    : return: A 2-D tensor where the second dimension is num_outputs.\n",
    "    \"\"\"\n",
    "    # TODO: Implement Function\n",
    "    return tf.contrib.layers.fully_connected(inputs=x_tensor, num_outputs = num_outputs, activation_fn=None)\n",
    "\n",
    "\n",
    "\"\"\"\n",
    "DON'T MODIFY ANYTHING IN THIS CELL THAT IS BELOW THIS LINE\n",
    "\"\"\"\n",
    "tests.test_output(output)"
   ]
  },
  {
   "cell_type": "markdown",
   "metadata": {
    "deletable": true,
    "editable": true
   },
   "source": [
    "### Create Convolutional Model\n",
    "Implement the function `conv_net` to create a convolutional neural network model. The function takes in a batch of images, `x`, and outputs logits.  Use the layers you created above to create this model:\n",
    "\n",
    "* Apply 1, 2, or 3 Convolution and Max Pool layers\n",
    "* Apply a Flatten Layer\n",
    "* Apply 1, 2, or 3 Fully Connected Layers\n",
    "* Apply an Output Layer\n",
    "* Return the output\n",
    "* Apply [TensorFlow's Dropout](https://www.tensorflow.org/api_docs/python/tf/nn/dropout) to one or more layers in the model using `keep_prob`. "
   ]
  },
  {
   "cell_type": "code",
   "execution_count": 153,
   "metadata": {
    "collapsed": false,
    "deletable": true,
    "editable": true
   },
   "outputs": [
    {
     "name": "stdout",
     "output_type": "stream",
     "text": [
      "Neural Network Built!\n"
     ]
    }
   ],
   "source": [
    "def conv_net(x, keep_prob):\n",
    "    \"\"\"\n",
    "    Create a convolutional neural network model\n",
    "    : x: Placeholder tensor that holds image data.\n",
    "    : keep_prob: Placeholder tensor that hold dropout keep probability.\n",
    "    : return: Tensor that represents logits\n",
    "    \"\"\"\n",
    "    # TODO: Apply 1, 2, or 3 Convolution and Max Pool layers\n",
    "    #    Play around with different number of outputs, kernel size and stride\n",
    "    # Function Definition from Above:\n",
    "    #    conv2d_maxpool(x_tensor, conv_num_outputs, conv_ksize, conv_strides, pool_ksize, pool_strides)\n",
    "    model = conv2d_maxpool(x, conv_num_outputs=18, conv_ksize=(4,4), conv_strides=(1,1), pool_ksize=(8,8), pool_strides=(1,1))\n",
    "   \n",
    "    \n",
    "    # TODO: Apply a Flatten Layer\n",
    "    # Function Definition from Above:\n",
    "    #   flatten(x_tensor)\n",
    "    model = flatten(model)\n",
    "\n",
    "    # TODO: Apply 1, 2, or 3 Fully Connected Layers\n",
    "    #    Play around with different number of outputs\n",
    "    # Function Definition from Above:\n",
    "    #   fully_conn(x_tensor, num_outputs)\n",
    "    model = fully_conn(model,300)\n",
    "    model = tf.nn.dropout(model, keep_prob)\n",
    "    \n",
    "    # TODO: Apply an Output Layer\n",
    "    #    Set this to the number of classes\n",
    "    # Function Definition from Above:\n",
    "    #   output(x_tensor, num_outputs)\n",
    "    model = output(model,10)\n",
    "    \n",
    "    # TODO: return output\n",
    "    return model\n",
    "\n",
    "\n",
    "\"\"\"\n",
    "DON'T MODIFY ANYTHING IN THIS CELL THAT IS BELOW THIS LINE\n",
    "\"\"\"\n",
    "\n",
    "##############################\n",
    "## Build the Neural Network ##\n",
    "##############################\n",
    "\n",
    "# Remove previous weights, bias, inputs, etc..\n",
    "tf.reset_default_graph()\n",
    "\n",
    "# Inputs\n",
    "x = neural_net_image_input((32, 32, 3))\n",
    "y = neural_net_label_input(10)\n",
    "keep_prob = neural_net_keep_prob_input()\n",
    "\n",
    "# Model\n",
    "logits = conv_net(x, keep_prob)\n",
    "\n",
    "# Name logits Tensor, so that is can be loaded from disk after training\n",
    "logits = tf.identity(logits, name='logits')\n",
    "\n",
    "# Loss and Optimizer\n",
    "cost = tf.reduce_mean(tf.nn.softmax_cross_entropy_with_logits(logits=logits, labels=y))\n",
    "optimizer = tf.train.AdamOptimizer().minimize(cost)\n",
    "\n",
    "# Accuracy\n",
    "correct_pred = tf.equal(tf.argmax(logits, 1), tf.argmax(y, 1))\n",
    "accuracy = tf.reduce_mean(tf.cast(correct_pred, tf.float32), name='accuracy')\n",
    "\n",
    "tests.test_conv_net(conv_net)"
   ]
  },
  {
   "cell_type": "markdown",
   "metadata": {
    "deletable": true,
    "editable": true
   },
   "source": [
    "## Train the Neural Network\n",
    "### Single Optimization\n",
    "Implement the function `train_neural_network` to do a single optimization.  The optimization should use `optimizer` to optimize in `session` with a `feed_dict` of the following:\n",
    "* `x` for image input\n",
    "* `y` for labels\n",
    "* `keep_prob` for keep probability for dropout\n",
    "\n",
    "This function will be called for each batch, so `tf.global_variables_initializer()` has already been called.\n",
    "\n",
    "Note: Nothing needs to be returned. This function is only optimizing the neural network."
   ]
  },
  {
   "cell_type": "code",
   "execution_count": 154,
   "metadata": {
    "collapsed": false,
    "deletable": true,
    "editable": true
   },
   "outputs": [
    {
     "name": "stdout",
     "output_type": "stream",
     "text": [
      "Tests Passed\n"
     ]
    }
   ],
   "source": [
    "def train_neural_network(session, optimizer, keep_probability, feature_batch, label_batch):\n",
    "    \"\"\"\n",
    "    Optimize the session on a batch of images and labels\n",
    "    : session: Current TensorFlow session\n",
    "    : optimizer: TensorFlow optimizer function\n",
    "    : keep_probability: keep probability\n",
    "    : feature_batch: Batch of Numpy image data\n",
    "    : label_batch: Batch of Numpy label data\n",
    "    \"\"\"\n",
    "    # TODO: Implement Function\n",
    "    session.run(optimizer, feed_dict={x:feature_batch, y:label_batch, keep_prob:keep_probability})\n",
    "    return\n",
    "\n",
    "\n",
    "\"\"\"\n",
    "DON'T MODIFY ANYTHING IN THIS CELL THAT IS BELOW THIS LINE\n",
    "\"\"\"\n",
    "tests.test_train_nn(train_neural_network)"
   ]
  },
  {
   "cell_type": "markdown",
   "metadata": {
    "deletable": true,
    "editable": true
   },
   "source": [
    "### Show Stats\n",
    "Implement the function `print_stats` to print loss and validation accuracy.  Use the global variables `valid_features` and `valid_labels` to calculate validation accuracy.  Use a keep probability of `1.0` to calculate the loss and validation accuracy."
   ]
  },
  {
   "cell_type": "code",
   "execution_count": 155,
   "metadata": {
    "collapsed": false,
    "deletable": true,
    "editable": true
   },
   "outputs": [],
   "source": [
    "def print_stats(session, feature_batch, label_batch, cost, accuracy):\n",
    "    \"\"\"\n",
    "    Print information about loss and validation accuracy\n",
    "    : session: Current TensorFlow session\n",
    "    : feature_batch: Batch of Numpy image data\n",
    "    : label_batch: Batch of Numpy label data\n",
    "    : cost: TensorFlow cost function\n",
    "    : accuracy: TensorFlow accuracy function\n",
    "    \"\"\"\n",
    "    # TODO: Implement Function\n",
    "    loss = session.run(cost, feed_dict={x:feature_batch, y:label_batch, keep_prob:1.0})\n",
    "    validation_accuracy = sess.run(accuracy, feed_dict={\n",
    "                x: valid_features,\n",
    "                y: valid_labels,\n",
    "                keep_prob: 1.0})\n",
    "    print(\"Loss: {} Validation Accuracy: {}\".format(loss, validation_accuracy))"
   ]
  },
  {
   "cell_type": "markdown",
   "metadata": {
    "deletable": true,
    "editable": true
   },
   "source": [
    "### Hyperparameters\n",
    "Tune the following parameters:\n",
    "* Set `epochs` to the number of iterations until the network stops learning or start overfitting\n",
    "* Set `batch_size` to the highest number that your machine has memory for.  Most people set them to common sizes of memory:\n",
    " * 64\n",
    " * 128\n",
    " * 256\n",
    " * ...\n",
    "* Set `keep_probability` to the probability of keeping a node using dropout"
   ]
  },
  {
   "cell_type": "code",
   "execution_count": 158,
   "metadata": {
    "collapsed": true,
    "deletable": true,
    "editable": true
   },
   "outputs": [],
   "source": [
    "# TODO: Tune Parameters\n",
    "epochs = 90\n",
    "batch_size = 512\n",
    "keep_probability = 0.5"
   ]
  },
  {
   "cell_type": "markdown",
   "metadata": {
    "deletable": true,
    "editable": true
   },
   "source": [
    "### Train on a Single CIFAR-10 Batch\n",
    "Instead of training the neural network on all the CIFAR-10 batches of data, let's use a single batch. This should save time while you iterate on the model to get a better accuracy.  Once the final validation accuracy is 50% or greater, run the model on all the data in the next section."
   ]
  },
  {
   "cell_type": "code",
   "execution_count": 159,
   "metadata": {
    "collapsed": false,
    "deletable": true,
    "editable": true
   },
   "outputs": [
    {
     "name": "stdout",
     "output_type": "stream",
     "text": [
      "Checking the Training on a Single Batch...\n",
      "Epoch  1, CIFAR-10 Batch 1:  Loss: 2.293170928955078 Validation Accuracy: 0.12239998579025269\n",
      "Epoch  2, CIFAR-10 Batch 1:  Loss: 2.2567553520202637 Validation Accuracy: 0.15160000324249268\n",
      "Epoch  3, CIFAR-10 Batch 1:  Loss: 2.175419330596924 Validation Accuracy: 0.23099999129772186\n",
      "Epoch  4, CIFAR-10 Batch 1:  Loss: 2.084639549255371 Validation Accuracy: 0.2443999946117401\n",
      "Epoch  5, CIFAR-10 Batch 1:  Loss: 2.0190494060516357 Validation Accuracy: 0.30159997940063477\n",
      "Epoch  6, CIFAR-10 Batch 1:  Loss: 1.9538553953170776 Validation Accuracy: 0.3715999722480774\n",
      "Epoch  7, CIFAR-10 Batch 1:  Loss: 1.8602544069290161 Validation Accuracy: 0.36419999599456787\n",
      "Epoch  8, CIFAR-10 Batch 1:  Loss: 1.7742785215377808 Validation Accuracy: 0.4049999713897705\n",
      "Epoch  9, CIFAR-10 Batch 1:  Loss: 1.7361185550689697 Validation Accuracy: 0.4187999665737152\n",
      "Epoch 10, CIFAR-10 Batch 1:  Loss: 1.6703377962112427 Validation Accuracy: 0.4487999677658081\n",
      "Epoch 11, CIFAR-10 Batch 1:  Loss: 1.6067755222320557 Validation Accuracy: 0.4535999298095703\n",
      "Epoch 12, CIFAR-10 Batch 1:  Loss: 1.5639363527297974 Validation Accuracy: 0.46439996361732483\n",
      "Epoch 13, CIFAR-10 Batch 1:  Loss: 1.5125551223754883 Validation Accuracy: 0.4875999689102173\n",
      "Epoch 14, CIFAR-10 Batch 1:  Loss: 1.520516276359558 Validation Accuracy: 0.488599956035614\n",
      "Epoch 15, CIFAR-10 Batch 1:  Loss: 1.437770962715149 Validation Accuracy: 0.5057999491691589\n",
      "Epoch 16, CIFAR-10 Batch 1:  Loss: 1.4193925857543945 Validation Accuracy: 0.5025999546051025\n",
      "Epoch 17, CIFAR-10 Batch 1:  Loss: 1.3965964317321777 Validation Accuracy: 0.5041999220848083\n",
      "Epoch 18, CIFAR-10 Batch 1:  Loss: 1.3735225200653076 Validation Accuracy: 0.4979999363422394\n",
      "Epoch 19, CIFAR-10 Batch 1:  Loss: 1.3677171468734741 Validation Accuracy: 0.5067999958992004\n",
      "Epoch 20, CIFAR-10 Batch 1:  Loss: 1.3762964010238647 Validation Accuracy: 0.5131999254226685\n",
      "Epoch 21, CIFAR-10 Batch 1:  Loss: 1.3137378692626953 Validation Accuracy: 0.5117999315261841\n",
      "Epoch 22, CIFAR-10 Batch 1:  Loss: 1.2824957370758057 Validation Accuracy: 0.5275999307632446\n",
      "Epoch 23, CIFAR-10 Batch 1:  Loss: 1.2636293172836304 Validation Accuracy: 0.5221999287605286\n",
      "Epoch 24, CIFAR-10 Batch 1:  Loss: 1.2376385927200317 Validation Accuracy: 0.5161999464035034\n",
      "Epoch 25, CIFAR-10 Batch 1:  Loss: 1.2479722499847412 Validation Accuracy: 0.5305999517440796\n",
      "Epoch 26, CIFAR-10 Batch 1:  Loss: 1.235137701034546 Validation Accuracy: 0.5251999497413635\n",
      "Epoch 27, CIFAR-10 Batch 1:  Loss: 1.201053261756897 Validation Accuracy: 0.5323999524116516\n",
      "Epoch 28, CIFAR-10 Batch 1:  Loss: 1.21046781539917 Validation Accuracy: 0.5277999639511108\n",
      "Epoch 29, CIFAR-10 Batch 1:  Loss: 1.1693625450134277 Validation Accuracy: 0.5371999740600586\n",
      "Epoch 30, CIFAR-10 Batch 1:  Loss: 1.1527025699615479 Validation Accuracy: 0.5381999015808105\n",
      "Epoch 31, CIFAR-10 Batch 1:  Loss: 1.1196343898773193 Validation Accuracy: 0.5463999509811401\n",
      "Epoch 32, CIFAR-10 Batch 1:  Loss: 1.1584265232086182 Validation Accuracy: 0.531999945640564\n",
      "Epoch 33, CIFAR-10 Batch 1:  Loss: 1.1496058702468872 Validation Accuracy: 0.5339999794960022\n",
      "Epoch 34, CIFAR-10 Batch 1:  Loss: 1.1134898662567139 Validation Accuracy: 0.5483999252319336\n",
      "Epoch 35, CIFAR-10 Batch 1:  Loss: 1.1096620559692383 Validation Accuracy: 0.5383999347686768\n",
      "Epoch 36, CIFAR-10 Batch 1:  Loss: 1.1103003025054932 Validation Accuracy: 0.539199948310852\n",
      "Epoch 37, CIFAR-10 Batch 1:  Loss: 1.0902436971664429 Validation Accuracy: 0.5411999821662903\n",
      "Epoch 38, CIFAR-10 Batch 1:  Loss: 1.1072745323181152 Validation Accuracy: 0.5363999605178833\n",
      "Epoch 39, CIFAR-10 Batch 1:  Loss: 1.0612455606460571 Validation Accuracy: 0.5427999496459961\n",
      "Epoch 40, CIFAR-10 Batch 1:  Loss: 1.0639041662216187 Validation Accuracy: 0.5501999258995056\n",
      "Epoch 41, CIFAR-10 Batch 1:  Loss: 1.0687406063079834 Validation Accuracy: 0.5351999402046204\n",
      "Epoch 42, CIFAR-10 Batch 1:  Loss: 1.0217833518981934 Validation Accuracy: 0.546799898147583\n",
      "Epoch 43, CIFAR-10 Batch 1:  Loss: 1.0467970371246338 Validation Accuracy: 0.5437999367713928\n",
      "Epoch 44, CIFAR-10 Batch 1:  Loss: 1.0025880336761475 Validation Accuracy: 0.5501999258995056\n",
      "Epoch 45, CIFAR-10 Batch 1:  Loss: 1.0600476264953613 Validation Accuracy: 0.5375999212265015\n",
      "Epoch 46, CIFAR-10 Batch 1:  Loss: 1.0169905424118042 Validation Accuracy: 0.5481999516487122\n",
      "Epoch 47, CIFAR-10 Batch 1:  Loss: 1.0063111782073975 Validation Accuracy: 0.5445999503135681\n",
      "Epoch 48, CIFAR-10 Batch 1:  Loss: 0.9869881868362427 Validation Accuracy: 0.5471999645233154\n",
      "Epoch 49, CIFAR-10 Batch 1:  Loss: 0.9860990047454834 Validation Accuracy: 0.5487999320030212\n",
      "Epoch 50, CIFAR-10 Batch 1:  Loss: 0.9764625430107117 Validation Accuracy: 0.5565999746322632\n",
      "Epoch 51, CIFAR-10 Batch 1:  Loss: 0.9869204759597778 Validation Accuracy: 0.5463999509811401\n",
      "Epoch 52, CIFAR-10 Batch 1:  Loss: 0.9858690500259399 Validation Accuracy: 0.5437999367713928\n",
      "Epoch 53, CIFAR-10 Batch 1:  Loss: 0.9690299034118652 Validation Accuracy: 0.5453999638557434\n",
      "Epoch 54, CIFAR-10 Batch 1:  Loss: 0.9303749203681946 Validation Accuracy: 0.5563998818397522\n",
      "Epoch 55, CIFAR-10 Batch 1:  Loss: 0.9708185791969299 Validation Accuracy: 0.544999897480011\n",
      "Epoch 56, CIFAR-10 Batch 1:  Loss: 0.9510782361030579 Validation Accuracy: 0.5509999394416809\n",
      "Epoch 57, CIFAR-10 Batch 1:  Loss: 0.9229981899261475 Validation Accuracy: 0.548799991607666\n",
      "Epoch 58, CIFAR-10 Batch 1:  Loss: 0.9375441074371338 Validation Accuracy: 0.5531998872756958\n",
      "Epoch 59, CIFAR-10 Batch 1:  Loss: 0.9271161556243896 Validation Accuracy: 0.553399920463562\n",
      "Epoch 60, CIFAR-10 Batch 1:  Loss: 0.917239785194397 Validation Accuracy: 0.5447999238967896\n",
      "Epoch 61, CIFAR-10 Batch 1:  Loss: 0.9098086953163147 Validation Accuracy: 0.5461999177932739\n",
      "Epoch 62, CIFAR-10 Batch 1:  Loss: 0.8908639550209045 Validation Accuracy: 0.5535999536514282\n",
      "Epoch 63, CIFAR-10 Batch 1:  Loss: 0.9001078009605408 Validation Accuracy: 0.5511999130249023\n",
      "Epoch 64, CIFAR-10 Batch 1:  Loss: 0.8853687047958374 Validation Accuracy: 0.5491999387741089\n",
      "Epoch 65, CIFAR-10 Batch 1:  Loss: 0.88616943359375 Validation Accuracy: 0.5550000071525574\n",
      "Epoch 66, CIFAR-10 Batch 1:  Loss: 0.8922876119613647 Validation Accuracy: 0.5523999333381653\n",
      "Epoch 67, CIFAR-10 Batch 1:  Loss: 0.9180357456207275 Validation Accuracy: 0.5421999096870422\n",
      "Epoch 68, CIFAR-10 Batch 1:  Loss: 0.9146308898925781 Validation Accuracy: 0.5415999293327332\n",
      "Epoch 69, CIFAR-10 Batch 1:  Loss: 0.8709824085235596 Validation Accuracy: 0.5491999387741089\n",
      "Epoch 70, CIFAR-10 Batch 1:  Loss: 0.8992856740951538 Validation Accuracy: 0.5513999462127686\n",
      "Epoch 71, CIFAR-10 Batch 1:  Loss: 0.8979777693748474 Validation Accuracy: 0.5467999577522278\n",
      "Epoch 72, CIFAR-10 Batch 1:  Loss: 0.8754945397377014 Validation Accuracy: 0.5451998710632324\n",
      "Epoch 73, CIFAR-10 Batch 1:  Loss: 0.9055721759796143 Validation Accuracy: 0.5365999937057495\n",
      "Epoch 74, CIFAR-10 Batch 1:  Loss: 0.9039291739463806 Validation Accuracy: 0.5457999110221863\n",
      "Epoch 75, CIFAR-10 Batch 1:  Loss: 0.8598058223724365 Validation Accuracy: 0.5443999171257019\n",
      "Epoch 76, CIFAR-10 Batch 1:  Loss: 0.8990828394889832 Validation Accuracy: 0.5485999584197998\n",
      "Epoch 77, CIFAR-10 Batch 1:  Loss: 0.8002548217773438 Validation Accuracy: 0.564799964427948\n",
      "Epoch 78, CIFAR-10 Batch 1:  Loss: 0.858954906463623 Validation Accuracy: 0.5549999475479126\n",
      "Epoch 79, CIFAR-10 Batch 1:  Loss: 0.813840389251709 Validation Accuracy: 0.5639998912811279\n",
      "Epoch 80, CIFAR-10 Batch 1:  Loss: 0.8209012746810913 Validation Accuracy: 0.5639999508857727\n",
      "Epoch 81, CIFAR-10 Batch 1:  Loss: 0.7967056035995483 Validation Accuracy: 0.5629999041557312\n",
      "Epoch 82, CIFAR-10 Batch 1:  Loss: 0.8316732048988342 Validation Accuracy: 0.5621998906135559\n",
      "Epoch 83, CIFAR-10 Batch 1:  Loss: 0.8148729801177979 Validation Accuracy: 0.56659996509552\n",
      "Epoch 84, CIFAR-10 Batch 1:  Loss: 0.8119469881057739 Validation Accuracy: 0.5601999163627625\n",
      "Epoch 85, CIFAR-10 Batch 1:  Loss: 0.7989146709442139 Validation Accuracy: 0.5717999339103699\n",
      "Epoch 86, CIFAR-10 Batch 1:  Loss: 0.8482969999313354 Validation Accuracy: 0.5575999617576599\n",
      "Epoch 87, CIFAR-10 Batch 1:  Loss: 0.8193492889404297 Validation Accuracy: 0.5561999678611755\n",
      "Epoch 88, CIFAR-10 Batch 1:  Loss: 0.7982264757156372 Validation Accuracy: 0.5553999543190002\n",
      "Epoch 89, CIFAR-10 Batch 1:  Loss: 0.797816812992096 Validation Accuracy: 0.5549999475479126\n",
      "Epoch 90, CIFAR-10 Batch 1:  Loss: 0.7890375852584839 Validation Accuracy: 0.5583999156951904\n"
     ]
    }
   ],
   "source": [
    "\"\"\"\n",
    "DON'T MODIFY ANYTHING IN THIS CELL\n",
    "\"\"\"\n",
    "print('Checking the Training on a Single Batch...')\n",
    "with tf.Session() as sess:\n",
    "    # Initializing the variables\n",
    "    sess.run(tf.global_variables_initializer())\n",
    "    \n",
    "    # Training cycle\n",
    "    for epoch in range(epochs):\n",
    "        batch_i = 1\n",
    "        for batch_features, batch_labels in helper.load_preprocess_training_batch(batch_i, batch_size):\n",
    "            train_neural_network(sess, optimizer, keep_probability, batch_features, batch_labels)\n",
    "        print('Epoch {:>2}, CIFAR-10 Batch {}:  '.format(epoch + 1, batch_i), end='')\n",
    "        print_stats(sess, batch_features, batch_labels, cost, accuracy)"
   ]
  },
  {
   "cell_type": "markdown",
   "metadata": {
    "deletable": true,
    "editable": true
   },
   "source": [
    "### Fully Train the Model\n",
    "Now that you got a good accuracy with a single CIFAR-10 batch, try it with all five batches."
   ]
  },
  {
   "cell_type": "code",
   "execution_count": 160,
   "metadata": {
    "collapsed": false,
    "deletable": true,
    "editable": true
   },
   "outputs": [
    {
     "name": "stdout",
     "output_type": "stream",
     "text": [
      "Training...\n",
      "Epoch  1, CIFAR-10 Batch 1:  Loss: 2.178431749343872 Validation Accuracy: 0.2199999839067459\n",
      "Epoch  1, CIFAR-10 Batch 2:  Loss: 2.0177502632141113 Validation Accuracy: 0.3027999997138977\n",
      "Epoch  1, CIFAR-10 Batch 3:  Loss: 1.7101054191589355 Validation Accuracy: 0.3893999457359314\n",
      "Epoch  1, CIFAR-10 Batch 4:  Loss: 1.5655996799468994 Validation Accuracy: 0.42639994621276855\n",
      "Epoch  1, CIFAR-10 Batch 5:  Loss: 1.5608330965042114 Validation Accuracy: 0.4544000029563904\n",
      "Epoch  2, CIFAR-10 Batch 1:  Loss: 1.5111572742462158 Validation Accuracy: 0.4853999614715576\n",
      "Epoch  2, CIFAR-10 Batch 2:  Loss: 1.3530811071395874 Validation Accuracy: 0.5021999478340149\n",
      "Epoch  2, CIFAR-10 Batch 3:  Loss: 1.2995492219924927 Validation Accuracy: 0.50819993019104\n",
      "Epoch  2, CIFAR-10 Batch 4:  Loss: 1.2227002382278442 Validation Accuracy: 0.5311999320983887\n",
      "Epoch  2, CIFAR-10 Batch 5:  Loss: 1.3178383111953735 Validation Accuracy: 0.5375999808311462\n",
      "Epoch  3, CIFAR-10 Batch 1:  Loss: 1.3161382675170898 Validation Accuracy: 0.5471999645233154\n",
      "Epoch  3, CIFAR-10 Batch 2:  Loss: 1.24037504196167 Validation Accuracy: 0.5527998805046082\n",
      "Epoch  3, CIFAR-10 Batch 3:  Loss: 1.201561689376831 Validation Accuracy: 0.5559999346733093\n",
      "Epoch  3, CIFAR-10 Batch 4:  Loss: 1.1161689758300781 Validation Accuracy: 0.5689999461174011\n",
      "Epoch  3, CIFAR-10 Batch 5:  Loss: 1.1871429681777954 Validation Accuracy: 0.5735999345779419\n",
      "Epoch  4, CIFAR-10 Batch 1:  Loss: 1.2437753677368164 Validation Accuracy: 0.5611999034881592\n",
      "Epoch  4, CIFAR-10 Batch 2:  Loss: 1.171044111251831 Validation Accuracy: 0.5625998973846436\n",
      "Epoch  4, CIFAR-10 Batch 3:  Loss: 1.1069464683532715 Validation Accuracy: 0.5783998966217041\n",
      "Epoch  4, CIFAR-10 Batch 4:  Loss: 1.0709893703460693 Validation Accuracy: 0.5743999481201172\n",
      "Epoch  4, CIFAR-10 Batch 5:  Loss: 1.1171917915344238 Validation Accuracy: 0.579599916934967\n",
      "Epoch  5, CIFAR-10 Batch 1:  Loss: 1.1715935468673706 Validation Accuracy: 0.5819998979568481\n",
      "Epoch  5, CIFAR-10 Batch 2:  Loss: 1.1043850183486938 Validation Accuracy: 0.5701999664306641\n",
      "Epoch  5, CIFAR-10 Batch 3:  Loss: 1.0634561777114868 Validation Accuracy: 0.5893999338150024\n",
      "Epoch  5, CIFAR-10 Batch 4:  Loss: 1.0040562152862549 Validation Accuracy: 0.5903998613357544\n",
      "Epoch  5, CIFAR-10 Batch 5:  Loss: 1.0609288215637207 Validation Accuracy: 0.5969998836517334\n",
      "Epoch  6, CIFAR-10 Batch 1:  Loss: 1.1140596866607666 Validation Accuracy: 0.5979999303817749\n",
      "Epoch  6, CIFAR-10 Batch 2:  Loss: 1.0961629152297974 Validation Accuracy: 0.584399938583374\n",
      "Epoch  6, CIFAR-10 Batch 3:  Loss: 1.015088438987732 Validation Accuracy: 0.6023999452590942\n",
      "Epoch  6, CIFAR-10 Batch 4:  Loss: 0.9928330183029175 Validation Accuracy: 0.5977998971939087\n",
      "Epoch  6, CIFAR-10 Batch 5:  Loss: 1.0229520797729492 Validation Accuracy: 0.6043999195098877\n",
      "Epoch  7, CIFAR-10 Batch 1:  Loss: 1.0851067304611206 Validation Accuracy: 0.6063999533653259\n",
      "Epoch  7, CIFAR-10 Batch 2:  Loss: 1.0491551160812378 Validation Accuracy: 0.5923999547958374\n",
      "Epoch  7, CIFAR-10 Batch 3:  Loss: 0.9677259922027588 Validation Accuracy: 0.6085999011993408\n",
      "Epoch  7, CIFAR-10 Batch 4:  Loss: 0.9671079516410828 Validation Accuracy: 0.6091998815536499\n",
      "Epoch  7, CIFAR-10 Batch 5:  Loss: 1.0103709697723389 Validation Accuracy: 0.6121999025344849\n",
      "Epoch  8, CIFAR-10 Batch 1:  Loss: 1.0549137592315674 Validation Accuracy: 0.6127999424934387\n",
      "Epoch  8, CIFAR-10 Batch 2:  Loss: 1.018349051475525 Validation Accuracy: 0.5957999229431152\n",
      "Epoch  8, CIFAR-10 Batch 3:  Loss: 0.9635912775993347 Validation Accuracy: 0.6133999228477478\n",
      "Epoch  8, CIFAR-10 Batch 4:  Loss: 0.9422575235366821 Validation Accuracy: 0.6161999106407166\n",
      "Epoch  8, CIFAR-10 Batch 5:  Loss: 0.9876810312271118 Validation Accuracy: 0.6123999357223511\n",
      "Epoch  9, CIFAR-10 Batch 1:  Loss: 1.0497543811798096 Validation Accuracy: 0.6037999391555786\n",
      "Epoch  9, CIFAR-10 Batch 2:  Loss: 1.0042246580123901 Validation Accuracy: 0.6103999018669128\n",
      "Epoch  9, CIFAR-10 Batch 3:  Loss: 0.9276787638664246 Validation Accuracy: 0.6203998923301697\n",
      "Epoch  9, CIFAR-10 Batch 4:  Loss: 0.9384828805923462 Validation Accuracy: 0.6239999532699585\n",
      "Epoch  9, CIFAR-10 Batch 5:  Loss: 0.9364182353019714 Validation Accuracy: 0.6191998720169067\n",
      "Epoch 10, CIFAR-10 Batch 1:  Loss: 1.022387981414795 Validation Accuracy: 0.6227998733520508\n",
      "Epoch 10, CIFAR-10 Batch 2:  Loss: 0.9526766538619995 Validation Accuracy: 0.6231998801231384\n",
      "Epoch 10, CIFAR-10 Batch 3:  Loss: 0.902299165725708 Validation Accuracy: 0.63239985704422\n",
      "Epoch 10, CIFAR-10 Batch 4:  Loss: 0.8990755081176758 Validation Accuracy: 0.6307998895645142\n",
      "Epoch 10, CIFAR-10 Batch 5:  Loss: 0.9224233031272888 Validation Accuracy: 0.6283999681472778\n",
      "Epoch 11, CIFAR-10 Batch 1:  Loss: 0.9941248893737793 Validation Accuracy: 0.626599907875061\n",
      "Epoch 11, CIFAR-10 Batch 2:  Loss: 0.9194616079330444 Validation Accuracy: 0.6317999362945557\n",
      "Epoch 11, CIFAR-10 Batch 3:  Loss: 0.9393811821937561 Validation Accuracy: 0.6225999593734741\n",
      "Epoch 11, CIFAR-10 Batch 4:  Loss: 0.8795994520187378 Validation Accuracy: 0.6365998983383179\n",
      "Epoch 11, CIFAR-10 Batch 5:  Loss: 0.8831855058670044 Validation Accuracy: 0.6295998692512512\n",
      "Epoch 12, CIFAR-10 Batch 1:  Loss: 0.9654713869094849 Validation Accuracy: 0.6281998753547668\n",
      "Epoch 12, CIFAR-10 Batch 2:  Loss: 0.9042682647705078 Validation Accuracy: 0.6289998888969421\n",
      "Epoch 12, CIFAR-10 Batch 3:  Loss: 0.8596639633178711 Validation Accuracy: 0.6339998841285706\n",
      "Epoch 12, CIFAR-10 Batch 4:  Loss: 0.8884340524673462 Validation Accuracy: 0.6349998712539673\n",
      "Epoch 12, CIFAR-10 Batch 5:  Loss: 0.8730488419532776 Validation Accuracy: 0.6317999362945557\n",
      "Epoch 13, CIFAR-10 Batch 1:  Loss: 0.9427515268325806 Validation Accuracy: 0.6367998719215393\n",
      "Epoch 13, CIFAR-10 Batch 2:  Loss: 0.8978641629219055 Validation Accuracy: 0.6317998766899109\n",
      "Epoch 13, CIFAR-10 Batch 3:  Loss: 0.8577737212181091 Validation Accuracy: 0.6329998970031738\n",
      "Epoch 13, CIFAR-10 Batch 4:  Loss: 0.8555710315704346 Validation Accuracy: 0.6417999267578125\n",
      "Epoch 13, CIFAR-10 Batch 5:  Loss: 0.8307601809501648 Validation Accuracy: 0.6381999254226685\n",
      "Epoch 14, CIFAR-10 Batch 1:  Loss: 0.9441662430763245 Validation Accuracy: 0.640799880027771\n",
      "Epoch 14, CIFAR-10 Batch 2:  Loss: 0.8822680115699768 Validation Accuracy: 0.6321998834609985\n",
      "Epoch 14, CIFAR-10 Batch 3:  Loss: 0.8341735601425171 Validation Accuracy: 0.6383998990058899\n",
      "Epoch 14, CIFAR-10 Batch 4:  Loss: 0.8609066009521484 Validation Accuracy: 0.6315999031066895\n",
      "Epoch 14, CIFAR-10 Batch 5:  Loss: 0.8387157320976257 Validation Accuracy: 0.6327999234199524\n",
      "Epoch 15, CIFAR-10 Batch 1:  Loss: 0.9214178323745728 Validation Accuracy: 0.6423998475074768\n",
      "Epoch 15, CIFAR-10 Batch 2:  Loss: 0.8748217821121216 Validation Accuracy: 0.6405999064445496\n",
      "Epoch 15, CIFAR-10 Batch 3:  Loss: 0.8180742263793945 Validation Accuracy: 0.6411998867988586\n",
      "Epoch 15, CIFAR-10 Batch 4:  Loss: 0.8273131847381592 Validation Accuracy: 0.6421998739242554\n",
      "Epoch 15, CIFAR-10 Batch 5:  Loss: 0.8344031572341919 Validation Accuracy: 0.6381999254226685\n",
      "Epoch 16, CIFAR-10 Batch 1:  Loss: 0.9200968146324158 Validation Accuracy: 0.6373999118804932\n",
      "Epoch 16, CIFAR-10 Batch 2:  Loss: 0.8811626434326172 Validation Accuracy: 0.6359999179840088\n",
      "Epoch 16, CIFAR-10 Batch 3:  Loss: 0.8096383213996887 Validation Accuracy: 0.6395999193191528\n",
      "Epoch 16, CIFAR-10 Batch 4:  Loss: 0.82594233751297 Validation Accuracy: 0.6405999064445496\n",
      "Epoch 16, CIFAR-10 Batch 5:  Loss: 0.798121452331543 Validation Accuracy: 0.6413998603820801\n",
      "Epoch 17, CIFAR-10 Batch 1:  Loss: 0.8879892826080322 Validation Accuracy: 0.6431999206542969\n",
      "Epoch 17, CIFAR-10 Batch 2:  Loss: 0.829358696937561 Validation Accuracy: 0.6433999538421631\n",
      "Epoch 17, CIFAR-10 Batch 3:  Loss: 0.7718105316162109 Validation Accuracy: 0.6515998840332031\n",
      "Epoch 17, CIFAR-10 Batch 4:  Loss: 0.8084223866462708 Validation Accuracy: 0.6347998976707458\n",
      "Epoch 17, CIFAR-10 Batch 5:  Loss: 0.7839071154594421 Validation Accuracy: 0.6401998996734619\n",
      "Epoch 18, CIFAR-10 Batch 1:  Loss: 0.8812103867530823 Validation Accuracy: 0.6451999545097351\n",
      "Epoch 18, CIFAR-10 Batch 2:  Loss: 0.8160037994384766 Validation Accuracy: 0.6433998942375183\n",
      "Epoch 18, CIFAR-10 Batch 3:  Loss: 0.7719342112541199 Validation Accuracy: 0.6497999429702759\n",
      "Epoch 18, CIFAR-10 Batch 4:  Loss: 0.8106867671012878 Validation Accuracy: 0.6467999219894409\n",
      "Epoch 18, CIFAR-10 Batch 5:  Loss: 0.7952790260314941 Validation Accuracy: 0.6377999186515808\n",
      "Epoch 19, CIFAR-10 Batch 1:  Loss: 0.8807035684585571 Validation Accuracy: 0.6457998752593994\n",
      "Epoch 19, CIFAR-10 Batch 2:  Loss: 0.8108968138694763 Validation Accuracy: 0.6457999348640442\n",
      "Epoch 19, CIFAR-10 Batch 3:  Loss: 0.7625711560249329 Validation Accuracy: 0.6463998556137085\n",
      "Epoch 19, CIFAR-10 Batch 4:  Loss: 0.7836450338363647 Validation Accuracy: 0.6413998603820801\n",
      "Epoch 19, CIFAR-10 Batch 5:  Loss: 0.756162703037262 Validation Accuracy: 0.6429998874664307\n",
      "Epoch 20, CIFAR-10 Batch 1:  Loss: 0.8708392381668091 Validation Accuracy: 0.6511998176574707\n",
      "Epoch 20, CIFAR-10 Batch 2:  Loss: 0.8385227918624878 Validation Accuracy: 0.6417999267578125\n",
      "Epoch 20, CIFAR-10 Batch 3:  Loss: 0.7731412053108215 Validation Accuracy: 0.6497999429702759\n",
      "Epoch 20, CIFAR-10 Batch 4:  Loss: 0.7594640254974365 Validation Accuracy: 0.6495998501777649\n",
      "Epoch 20, CIFAR-10 Batch 5:  Loss: 0.7489541172981262 Validation Accuracy: 0.6439999341964722\n",
      "Epoch 21, CIFAR-10 Batch 1:  Loss: 0.8290749192237854 Validation Accuracy: 0.6483998894691467\n",
      "Epoch 21, CIFAR-10 Batch 2:  Loss: 0.759842038154602 Validation Accuracy: 0.6533999443054199\n",
      "Epoch 21, CIFAR-10 Batch 3:  Loss: 0.7296534776687622 Validation Accuracy: 0.6529999375343323\n",
      "Epoch 21, CIFAR-10 Batch 4:  Loss: 0.7416223287582397 Validation Accuracy: 0.6527999639511108\n",
      "Epoch 21, CIFAR-10 Batch 5:  Loss: 0.7547800540924072 Validation Accuracy: 0.6427999138832092\n",
      "Epoch 22, CIFAR-10 Batch 1:  Loss: 0.8226675391197205 Validation Accuracy: 0.6435999274253845\n",
      "Epoch 22, CIFAR-10 Batch 2:  Loss: 0.7888282537460327 Validation Accuracy: 0.6497999429702759\n",
      "Epoch 22, CIFAR-10 Batch 3:  Loss: 0.7387473583221436 Validation Accuracy: 0.6531999111175537\n",
      "Epoch 22, CIFAR-10 Batch 4:  Loss: 0.7407647371292114 Validation Accuracy: 0.650999903678894\n",
      "Epoch 22, CIFAR-10 Batch 5:  Loss: 0.7176227569580078 Validation Accuracy: 0.6439998745918274\n",
      "Epoch 23, CIFAR-10 Batch 1:  Loss: 0.8128909468650818 Validation Accuracy: 0.645599901676178\n",
      "Epoch 23, CIFAR-10 Batch 2:  Loss: 0.7658951282501221 Validation Accuracy: 0.6485998630523682\n",
      "Epoch 23, CIFAR-10 Batch 3:  Loss: 0.719353437423706 Validation Accuracy: 0.6495998501777649\n",
      "Epoch 23, CIFAR-10 Batch 4:  Loss: 0.7359418869018555 Validation Accuracy: 0.6439999341964722\n",
      "Epoch 23, CIFAR-10 Batch 5:  Loss: 0.727943480014801 Validation Accuracy: 0.6499999165534973\n",
      "Epoch 24, CIFAR-10 Batch 1:  Loss: 0.7956737279891968 Validation Accuracy: 0.6489999294281006\n",
      "Epoch 24, CIFAR-10 Batch 2:  Loss: 0.7764020562171936 Validation Accuracy: 0.653999924659729\n",
      "Epoch 24, CIFAR-10 Batch 3:  Loss: 0.7113760709762573 Validation Accuracy: 0.6515998840332031\n",
      "Epoch 24, CIFAR-10 Batch 4:  Loss: 0.7612752318382263 Validation Accuracy: 0.640799880027771\n",
      "Epoch 24, CIFAR-10 Batch 5:  Loss: 0.7211618423461914 Validation Accuracy: 0.6447998881340027\n",
      "Epoch 25, CIFAR-10 Batch 1:  Loss: 0.793669581413269 Validation Accuracy: 0.64739990234375\n",
      "Epoch 25, CIFAR-10 Batch 2:  Loss: 0.7679234743118286 Validation Accuracy: 0.6505998969078064\n",
      "Epoch 25, CIFAR-10 Batch 3:  Loss: 0.7172893285751343 Validation Accuracy: 0.6583999395370483\n",
      "Epoch 25, CIFAR-10 Batch 4:  Loss: 0.7225868105888367 Validation Accuracy: 0.6509998440742493\n",
      "Epoch 25, CIFAR-10 Batch 5:  Loss: 0.6964526772499084 Validation Accuracy: 0.6489999294281006\n",
      "Epoch 26, CIFAR-10 Batch 1:  Loss: 0.7775236368179321 Validation Accuracy: 0.6457998752593994\n",
      "Epoch 26, CIFAR-10 Batch 2:  Loss: 0.7758643627166748 Validation Accuracy: 0.6439999341964722\n",
      "Epoch 26, CIFAR-10 Batch 3:  Loss: 0.707435131072998 Validation Accuracy: 0.6447998285293579\n",
      "Epoch 26, CIFAR-10 Batch 4:  Loss: 0.7247502207756042 Validation Accuracy: 0.6435998678207397\n",
      "Epoch 26, CIFAR-10 Batch 5:  Loss: 0.6911109685897827 Validation Accuracy: 0.6465998888015747\n",
      "Epoch 27, CIFAR-10 Batch 1:  Loss: 0.7719844579696655 Validation Accuracy: 0.6515999436378479\n",
      "Epoch 27, CIFAR-10 Batch 2:  Loss: 0.7407864332199097 Validation Accuracy: 0.6467999219894409\n",
      "Epoch 27, CIFAR-10 Batch 3:  Loss: 0.7116729021072388 Validation Accuracy: 0.650199830532074\n",
      "Epoch 27, CIFAR-10 Batch 4:  Loss: 0.7028036713600159 Validation Accuracy: 0.6521998643875122\n",
      "Epoch 27, CIFAR-10 Batch 5:  Loss: 0.690427839756012 Validation Accuracy: 0.6487998962402344\n",
      "Epoch 28, CIFAR-10 Batch 1:  Loss: 0.7808232307434082 Validation Accuracy: 0.6529998779296875\n",
      "Epoch 28, CIFAR-10 Batch 2:  Loss: 0.7315671443939209 Validation Accuracy: 0.6581999063491821\n",
      "Epoch 28, CIFAR-10 Batch 3:  Loss: 0.6749413013458252 Validation Accuracy: 0.6543998718261719\n",
      "Epoch 28, CIFAR-10 Batch 4:  Loss: 0.7078361511230469 Validation Accuracy: 0.642599880695343\n",
      "Epoch 28, CIFAR-10 Batch 5:  Loss: 0.6703039407730103 Validation Accuracy: 0.6517999172210693\n",
      "Epoch 29, CIFAR-10 Batch 1:  Loss: 0.7588720321655273 Validation Accuracy: 0.6475998759269714\n",
      "Epoch 29, CIFAR-10 Batch 2:  Loss: 0.7362644672393799 Validation Accuracy: 0.6531999111175537\n",
      "Epoch 29, CIFAR-10 Batch 3:  Loss: 0.6772356033325195 Validation Accuracy: 0.6531999111175537\n",
      "Epoch 29, CIFAR-10 Batch 4:  Loss: 0.664362370967865 Validation Accuracy: 0.6561998128890991\n",
      "Epoch 29, CIFAR-10 Batch 5:  Loss: 0.6531187295913696 Validation Accuracy: 0.6519998908042908\n",
      "Epoch 30, CIFAR-10 Batch 1:  Loss: 0.7463234066963196 Validation Accuracy: 0.6577998995780945\n",
      "Epoch 30, CIFAR-10 Batch 2:  Loss: 0.7106729745864868 Validation Accuracy: 0.6553999185562134\n",
      "Epoch 30, CIFAR-10 Batch 3:  Loss: 0.672042191028595 Validation Accuracy: 0.6507999300956726\n",
      "Epoch 30, CIFAR-10 Batch 4:  Loss: 0.6868867874145508 Validation Accuracy: 0.6501998901367188\n",
      "Epoch 30, CIFAR-10 Batch 5:  Loss: 0.6202932596206665 Validation Accuracy: 0.655799925327301\n",
      "Epoch 31, CIFAR-10 Batch 1:  Loss: 0.719651997089386 Validation Accuracy: 0.6515998840332031\n",
      "Epoch 31, CIFAR-10 Batch 2:  Loss: 0.717207133769989 Validation Accuracy: 0.6517999172210693\n",
      "Epoch 31, CIFAR-10 Batch 3:  Loss: 0.6782808303833008 Validation Accuracy: 0.6563999056816101\n",
      "Epoch 31, CIFAR-10 Batch 4:  Loss: 0.6728718876838684 Validation Accuracy: 0.6577998995780945\n",
      "Epoch 31, CIFAR-10 Batch 5:  Loss: 0.6580290198326111 Validation Accuracy: 0.6507998704910278\n",
      "Epoch 32, CIFAR-10 Batch 1:  Loss: 0.7293089628219604 Validation Accuracy: 0.6499999165534973\n",
      "Epoch 32, CIFAR-10 Batch 2:  Loss: 0.7285014986991882 Validation Accuracy: 0.650999903678894\n",
      "Epoch 32, CIFAR-10 Batch 3:  Loss: 0.6592695713043213 Validation Accuracy: 0.6631998419761658\n",
      "Epoch 32, CIFAR-10 Batch 4:  Loss: 0.652294397354126 Validation Accuracy: 0.6583998799324036\n",
      "Epoch 32, CIFAR-10 Batch 5:  Loss: 0.6593511700630188 Validation Accuracy: 0.6523998975753784\n",
      "Epoch 33, CIFAR-10 Batch 1:  Loss: 0.7282378673553467 Validation Accuracy: 0.6601998805999756\n",
      "Epoch 33, CIFAR-10 Batch 2:  Loss: 0.6885420083999634 Validation Accuracy: 0.6577998995780945\n",
      "Epoch 33, CIFAR-10 Batch 3:  Loss: 0.6448256969451904 Validation Accuracy: 0.6649998426437378\n",
      "Epoch 33, CIFAR-10 Batch 4:  Loss: 0.6560694575309753 Validation Accuracy: 0.6581998467445374\n",
      "Epoch 33, CIFAR-10 Batch 5:  Loss: 0.6343237161636353 Validation Accuracy: 0.6573998928070068\n",
      "Epoch 34, CIFAR-10 Batch 1:  Loss: 0.6887800693511963 Validation Accuracy: 0.6609998941421509\n",
      "Epoch 34, CIFAR-10 Batch 2:  Loss: 0.682455837726593 Validation Accuracy: 0.6595999002456665\n",
      "Epoch 34, CIFAR-10 Batch 3:  Loss: 0.6540341973304749 Validation Accuracy: 0.6539998650550842\n",
      "Epoch 34, CIFAR-10 Batch 4:  Loss: 0.6161919236183167 Validation Accuracy: 0.6623998284339905\n",
      "Epoch 34, CIFAR-10 Batch 5:  Loss: 0.6278207898139954 Validation Accuracy: 0.6609998941421509\n",
      "Epoch 35, CIFAR-10 Batch 1:  Loss: 0.7299423813819885 Validation Accuracy: 0.6595998406410217\n",
      "Epoch 35, CIFAR-10 Batch 2:  Loss: 0.6808252930641174 Validation Accuracy: 0.6583998799324036\n",
      "Epoch 35, CIFAR-10 Batch 3:  Loss: 0.6507503390312195 Validation Accuracy: 0.6589998602867126\n",
      "Epoch 35, CIFAR-10 Batch 4:  Loss: 0.6251783967018127 Validation Accuracy: 0.6589999198913574\n",
      "Epoch 35, CIFAR-10 Batch 5:  Loss: 0.6130631566047668 Validation Accuracy: 0.6517998576164246\n",
      "Epoch 36, CIFAR-10 Batch 1:  Loss: 0.679780900478363 Validation Accuracy: 0.6649998426437378\n",
      "Epoch 36, CIFAR-10 Batch 2:  Loss: 0.6622314453125 Validation Accuracy: 0.6561999320983887\n",
      "Epoch 36, CIFAR-10 Batch 3:  Loss: 0.6203604936599731 Validation Accuracy: 0.6595999002456665\n",
      "Epoch 36, CIFAR-10 Batch 4:  Loss: 0.6279855370521545 Validation Accuracy: 0.6561998724937439\n",
      "Epoch 36, CIFAR-10 Batch 5:  Loss: 0.6162816882133484 Validation Accuracy: 0.6575998663902283\n",
      "Epoch 37, CIFAR-10 Batch 1:  Loss: 0.6892375946044922 Validation Accuracy: 0.6639998555183411\n",
      "Epoch 37, CIFAR-10 Batch 2:  Loss: 0.6611122488975525 Validation Accuracy: 0.6579998731613159\n",
      "Epoch 37, CIFAR-10 Batch 3:  Loss: 0.5997264385223389 Validation Accuracy: 0.6583999395370483\n",
      "Epoch 37, CIFAR-10 Batch 4:  Loss: 0.5908254384994507 Validation Accuracy: 0.6631999015808105\n",
      "Epoch 37, CIFAR-10 Batch 5:  Loss: 0.5852259397506714 Validation Accuracy: 0.6605998873710632\n",
      "Epoch 38, CIFAR-10 Batch 1:  Loss: 0.673857569694519 Validation Accuracy: 0.6583998799324036\n",
      "Epoch 38, CIFAR-10 Batch 2:  Loss: 0.6596553921699524 Validation Accuracy: 0.6553999185562134\n",
      "Epoch 38, CIFAR-10 Batch 3:  Loss: 0.5944095849990845 Validation Accuracy: 0.6595998406410217\n",
      "Epoch 38, CIFAR-10 Batch 4:  Loss: 0.6081539392471313 Validation Accuracy: 0.6571999192237854\n",
      "Epoch 38, CIFAR-10 Batch 5:  Loss: 0.5845593214035034 Validation Accuracy: 0.6569998860359192\n",
      "Epoch 39, CIFAR-10 Batch 1:  Loss: 0.6444097757339478 Validation Accuracy: 0.6535998582839966\n",
      "Epoch 39, CIFAR-10 Batch 2:  Loss: 0.6417034864425659 Validation Accuracy: 0.6607998609542847\n",
      "Epoch 39, CIFAR-10 Batch 3:  Loss: 0.6153334379196167 Validation Accuracy: 0.6619998812675476\n",
      "Epoch 39, CIFAR-10 Batch 4:  Loss: 0.6241508722305298 Validation Accuracy: 0.6553999185562134\n",
      "Epoch 39, CIFAR-10 Batch 5:  Loss: 0.5762432813644409 Validation Accuracy: 0.6545999050140381\n",
      "Epoch 40, CIFAR-10 Batch 1:  Loss: 0.6415567398071289 Validation Accuracy: 0.6623998880386353\n",
      "Epoch 40, CIFAR-10 Batch 2:  Loss: 0.6243907809257507 Validation Accuracy: 0.6637999415397644\n",
      "Epoch 40, CIFAR-10 Batch 3:  Loss: 0.5999513268470764 Validation Accuracy: 0.6571998596191406\n",
      "Epoch 40, CIFAR-10 Batch 4:  Loss: 0.6184510588645935 Validation Accuracy: 0.6553998589515686\n",
      "Epoch 40, CIFAR-10 Batch 5:  Loss: 0.5686973929405212 Validation Accuracy: 0.6569998860359192\n",
      "Epoch 41, CIFAR-10 Batch 1:  Loss: 0.6523320078849792 Validation Accuracy: 0.6619998812675476\n",
      "Epoch 41, CIFAR-10 Batch 2:  Loss: 0.6242916584014893 Validation Accuracy: 0.666999876499176\n",
      "Epoch 41, CIFAR-10 Batch 3:  Loss: 0.5841525793075562 Validation Accuracy: 0.662199854850769\n",
      "Epoch 41, CIFAR-10 Batch 4:  Loss: 0.5862792134284973 Validation Accuracy: 0.6521998643875122\n",
      "Epoch 41, CIFAR-10 Batch 5:  Loss: 0.5559588074684143 Validation Accuracy: 0.6575998663902283\n",
      "Epoch 42, CIFAR-10 Batch 1:  Loss: 0.6295190453529358 Validation Accuracy: 0.6631999015808105\n",
      "Epoch 42, CIFAR-10 Batch 2:  Loss: 0.6307855248451233 Validation Accuracy: 0.6559998989105225\n",
      "Epoch 42, CIFAR-10 Batch 3:  Loss: 0.5851352214813232 Validation Accuracy: 0.6643999218940735\n",
      "Epoch 42, CIFAR-10 Batch 4:  Loss: 0.5763124227523804 Validation Accuracy: 0.6547998785972595\n",
      "Epoch 42, CIFAR-10 Batch 5:  Loss: 0.5905020236968994 Validation Accuracy: 0.6477999091148376\n",
      "Epoch 43, CIFAR-10 Batch 1:  Loss: 0.6541765928268433 Validation Accuracy: 0.6611998677253723\n",
      "Epoch 43, CIFAR-10 Batch 2:  Loss: 0.6138322949409485 Validation Accuracy: 0.662199854850769\n",
      "Epoch 43, CIFAR-10 Batch 3:  Loss: 0.5493804812431335 Validation Accuracy: 0.6617999076843262\n",
      "Epoch 43, CIFAR-10 Batch 4:  Loss: 0.5896658301353455 Validation Accuracy: 0.655799925327301\n",
      "Epoch 43, CIFAR-10 Batch 5:  Loss: 0.5756773948669434 Validation Accuracy: 0.6541998386383057\n",
      "Epoch 44, CIFAR-10 Batch 1:  Loss: 0.6540684103965759 Validation Accuracy: 0.662199854850769\n",
      "Epoch 44, CIFAR-10 Batch 2:  Loss: 0.6099083423614502 Validation Accuracy: 0.6561999320983887\n",
      "Epoch 44, CIFAR-10 Batch 3:  Loss: 0.5745465755462646 Validation Accuracy: 0.6583998799324036\n",
      "Epoch 44, CIFAR-10 Batch 4:  Loss: 0.5650849342346191 Validation Accuracy: 0.6637998819351196\n",
      "Epoch 44, CIFAR-10 Batch 5:  Loss: 0.5510091781616211 Validation Accuracy: 0.6549999713897705\n",
      "Epoch 45, CIFAR-10 Batch 1:  Loss: 0.6107701063156128 Validation Accuracy: 0.6597998738288879\n",
      "Epoch 45, CIFAR-10 Batch 2:  Loss: 0.6119526028633118 Validation Accuracy: 0.6603999137878418\n",
      "Epoch 45, CIFAR-10 Batch 3:  Loss: 0.5649961233139038 Validation Accuracy: 0.6567999124526978\n",
      "Epoch 45, CIFAR-10 Batch 4:  Loss: 0.5787850022315979 Validation Accuracy: 0.6515998840332031\n",
      "Epoch 45, CIFAR-10 Batch 5:  Loss: 0.5594234466552734 Validation Accuracy: 0.6507998704910278\n",
      "Epoch 46, CIFAR-10 Batch 1:  Loss: 0.6182122230529785 Validation Accuracy: 0.663399875164032\n",
      "Epoch 46, CIFAR-10 Batch 2:  Loss: 0.6029595136642456 Validation Accuracy: 0.6653999090194702\n",
      "Epoch 46, CIFAR-10 Batch 3:  Loss: 0.5556149482727051 Validation Accuracy: 0.6629999279975891\n",
      "Epoch 46, CIFAR-10 Batch 4:  Loss: 0.5588113069534302 Validation Accuracy: 0.6591998934745789\n",
      "Epoch 46, CIFAR-10 Batch 5:  Loss: 0.512192964553833 Validation Accuracy: 0.6575998663902283\n",
      "Epoch 47, CIFAR-10 Batch 1:  Loss: 0.6000471711158752 Validation Accuracy: 0.6611998677253723\n",
      "Epoch 47, CIFAR-10 Batch 2:  Loss: 0.6000359654426575 Validation Accuracy: 0.6613999009132385\n",
      "Epoch 47, CIFAR-10 Batch 3:  Loss: 0.5196250677108765 Validation Accuracy: 0.6635999083518982\n",
      "Epoch 47, CIFAR-10 Batch 4:  Loss: 0.5577845573425293 Validation Accuracy: 0.6577998995780945\n",
      "Epoch 47, CIFAR-10 Batch 5:  Loss: 0.5432686805725098 Validation Accuracy: 0.6569998860359192\n",
      "Epoch 48, CIFAR-10 Batch 1:  Loss: 0.5897151231765747 Validation Accuracy: 0.6623998880386353\n",
      "Epoch 48, CIFAR-10 Batch 2:  Loss: 0.5938180088996887 Validation Accuracy: 0.6583998203277588\n",
      "Epoch 48, CIFAR-10 Batch 3:  Loss: 0.5456828474998474 Validation Accuracy: 0.6551998853683472\n",
      "Epoch 48, CIFAR-10 Batch 4:  Loss: 0.581397294998169 Validation Accuracy: 0.6569998860359192\n",
      "Epoch 48, CIFAR-10 Batch 5:  Loss: 0.5489562749862671 Validation Accuracy: 0.6495998501777649\n",
      "Epoch 49, CIFAR-10 Batch 1:  Loss: 0.5689614415168762 Validation Accuracy: 0.6609998941421509\n",
      "Epoch 49, CIFAR-10 Batch 2:  Loss: 0.57197105884552 Validation Accuracy: 0.6597998738288879\n",
      "Epoch 49, CIFAR-10 Batch 3:  Loss: 0.5621220469474792 Validation Accuracy: 0.6573998928070068\n",
      "Epoch 49, CIFAR-10 Batch 4:  Loss: 0.5549784302711487 Validation Accuracy: 0.6577998995780945\n",
      "Epoch 49, CIFAR-10 Batch 5:  Loss: 0.5434823036193848 Validation Accuracy: 0.652199923992157\n",
      "Epoch 50, CIFAR-10 Batch 1:  Loss: 0.5848038196563721 Validation Accuracy: 0.6617999076843262\n",
      "Epoch 50, CIFAR-10 Batch 2:  Loss: 0.5721086859703064 Validation Accuracy: 0.6609998941421509\n",
      "Epoch 50, CIFAR-10 Batch 3:  Loss: 0.5394384860992432 Validation Accuracy: 0.6611998677253723\n",
      "Epoch 50, CIFAR-10 Batch 4:  Loss: 0.5362913012504578 Validation Accuracy: 0.6601998805999756\n",
      "Epoch 50, CIFAR-10 Batch 5:  Loss: 0.5049556493759155 Validation Accuracy: 0.662199854850769\n",
      "Epoch 51, CIFAR-10 Batch 1:  Loss: 0.6029381155967712 Validation Accuracy: 0.658599853515625\n",
      "Epoch 51, CIFAR-10 Batch 2:  Loss: 0.5497778654098511 Validation Accuracy: 0.6593999266624451\n",
      "Epoch 51, CIFAR-10 Batch 3:  Loss: 0.5274587869644165 Validation Accuracy: 0.6607999205589294\n",
      "Epoch 51, CIFAR-10 Batch 4:  Loss: 0.5333272814750671 Validation Accuracy: 0.6563998460769653\n",
      "Epoch 51, CIFAR-10 Batch 5:  Loss: 0.5267530679702759 Validation Accuracy: 0.6519998908042908\n",
      "Epoch 52, CIFAR-10 Batch 1:  Loss: 0.6179713010787964 Validation Accuracy: 0.6571998596191406\n",
      "Epoch 52, CIFAR-10 Batch 2:  Loss: 0.5551601648330688 Validation Accuracy: 0.6611998677253723\n",
      "Epoch 52, CIFAR-10 Batch 3:  Loss: 0.5168132185935974 Validation Accuracy: 0.6581999063491821\n",
      "Epoch 52, CIFAR-10 Batch 4:  Loss: 0.5317621827125549 Validation Accuracy: 0.6593998670578003\n",
      "Epoch 52, CIFAR-10 Batch 5:  Loss: 0.5123860239982605 Validation Accuracy: 0.650999903678894\n",
      "Epoch 53, CIFAR-10 Batch 1:  Loss: 0.5684594511985779 Validation Accuracy: 0.6643998622894287\n",
      "Epoch 53, CIFAR-10 Batch 2:  Loss: 0.5841788649559021 Validation Accuracy: 0.6541998386383057\n",
      "Epoch 53, CIFAR-10 Batch 3:  Loss: 0.5074419379234314 Validation Accuracy: 0.6599998474121094\n",
      "Epoch 53, CIFAR-10 Batch 4:  Loss: 0.5264043211936951 Validation Accuracy: 0.6565998792648315\n",
      "Epoch 53, CIFAR-10 Batch 5:  Loss: 0.4955955147743225 Validation Accuracy: 0.66159987449646\n",
      "Epoch 54, CIFAR-10 Batch 1:  Loss: 0.5853551626205444 Validation Accuracy: 0.6535998582839966\n",
      "Epoch 54, CIFAR-10 Batch 2:  Loss: 0.5743515491485596 Validation Accuracy: 0.6613999009132385\n",
      "Epoch 54, CIFAR-10 Batch 3:  Loss: 0.5153607726097107 Validation Accuracy: 0.6569998860359192\n",
      "Epoch 54, CIFAR-10 Batch 4:  Loss: 0.550381064414978 Validation Accuracy: 0.6519998908042908\n",
      "Epoch 54, CIFAR-10 Batch 5:  Loss: 0.5211287140846252 Validation Accuracy: 0.6559998989105225\n",
      "Epoch 55, CIFAR-10 Batch 1:  Loss: 0.5827869176864624 Validation Accuracy: 0.6533998847007751\n",
      "Epoch 55, CIFAR-10 Batch 2:  Loss: 0.5921745300292969 Validation Accuracy: 0.6579998731613159\n",
      "Epoch 55, CIFAR-10 Batch 3:  Loss: 0.5309321880340576 Validation Accuracy: 0.6573998928070068\n",
      "Epoch 55, CIFAR-10 Batch 4:  Loss: 0.5124940872192383 Validation Accuracy: 0.6543998718261719\n",
      "Epoch 55, CIFAR-10 Batch 5:  Loss: 0.4993882477283478 Validation Accuracy: 0.657599925994873\n",
      "Epoch 56, CIFAR-10 Batch 1:  Loss: 0.5667426586151123 Validation Accuracy: 0.6649998426437378\n",
      "Epoch 56, CIFAR-10 Batch 2:  Loss: 0.5497773885726929 Validation Accuracy: 0.6565998792648315\n",
      "Epoch 56, CIFAR-10 Batch 3:  Loss: 0.4846700131893158 Validation Accuracy: 0.6639999151229858\n",
      "Epoch 56, CIFAR-10 Batch 4:  Loss: 0.4965808391571045 Validation Accuracy: 0.6567999124526978\n",
      "Epoch 56, CIFAR-10 Batch 5:  Loss: 0.4644138216972351 Validation Accuracy: 0.6597998738288879\n",
      "Epoch 57, CIFAR-10 Batch 1:  Loss: 0.5491877198219299 Validation Accuracy: 0.6645998954772949\n",
      "Epoch 57, CIFAR-10 Batch 2:  Loss: 0.5617112517356873 Validation Accuracy: 0.6603999137878418\n",
      "Epoch 57, CIFAR-10 Batch 3:  Loss: 0.5126520395278931 Validation Accuracy: 0.6563998460769653\n",
      "Epoch 57, CIFAR-10 Batch 4:  Loss: 0.5032552480697632 Validation Accuracy: 0.6635999083518982\n",
      "Epoch 57, CIFAR-10 Batch 5:  Loss: 0.4948352575302124 Validation Accuracy: 0.6627998352050781\n",
      "Epoch 58, CIFAR-10 Batch 1:  Loss: 0.5479719638824463 Validation Accuracy: 0.6571998596191406\n",
      "Epoch 58, CIFAR-10 Batch 2:  Loss: 0.5238873958587646 Validation Accuracy: 0.6597998738288879\n",
      "Epoch 58, CIFAR-10 Batch 3:  Loss: 0.49816712737083435 Validation Accuracy: 0.6677998304367065\n",
      "Epoch 58, CIFAR-10 Batch 4:  Loss: 0.49732521176338196 Validation Accuracy: 0.6611998677253723\n",
      "Epoch 58, CIFAR-10 Batch 5:  Loss: 0.4886208772659302 Validation Accuracy: 0.6623998880386353\n",
      "Epoch 59, CIFAR-10 Batch 1:  Loss: 0.5470154881477356 Validation Accuracy: 0.6599999070167542\n",
      "Epoch 59, CIFAR-10 Batch 2:  Loss: 0.5223602652549744 Validation Accuracy: 0.6617999076843262\n",
      "Epoch 59, CIFAR-10 Batch 3:  Loss: 0.4808379113674164 Validation Accuracy: 0.6649998426437378\n",
      "Epoch 59, CIFAR-10 Batch 4:  Loss: 0.4794755280017853 Validation Accuracy: 0.666999876499176\n",
      "Epoch 59, CIFAR-10 Batch 5:  Loss: 0.5122271776199341 Validation Accuracy: 0.6629998683929443\n",
      "Epoch 60, CIFAR-10 Batch 1:  Loss: 0.5337387323379517 Validation Accuracy: 0.6627998948097229\n",
      "Epoch 60, CIFAR-10 Batch 2:  Loss: 0.5338001251220703 Validation Accuracy: 0.6577998399734497\n",
      "Epoch 60, CIFAR-10 Batch 3:  Loss: 0.4723219871520996 Validation Accuracy: 0.6579999327659607\n",
      "Epoch 60, CIFAR-10 Batch 4:  Loss: 0.4944913983345032 Validation Accuracy: 0.653799831867218\n",
      "Epoch 60, CIFAR-10 Batch 5:  Loss: 0.4721361994743347 Validation Accuracy: 0.6563998460769653\n",
      "Epoch 61, CIFAR-10 Batch 1:  Loss: 0.5300983786582947 Validation Accuracy: 0.660399854183197\n",
      "Epoch 61, CIFAR-10 Batch 2:  Loss: 0.5052968859672546 Validation Accuracy: 0.6639998555183411\n",
      "Epoch 61, CIFAR-10 Batch 3:  Loss: 0.47054678201675415 Validation Accuracy: 0.6625998616218567\n",
      "Epoch 61, CIFAR-10 Batch 4:  Loss: 0.48698878288269043 Validation Accuracy: 0.6593999266624451\n",
      "Epoch 61, CIFAR-10 Batch 5:  Loss: 0.47356951236724854 Validation Accuracy: 0.6601998805999756\n",
      "Epoch 62, CIFAR-10 Batch 1:  Loss: 0.5150800943374634 Validation Accuracy: 0.6619998812675476\n",
      "Epoch 62, CIFAR-10 Batch 2:  Loss: 0.5050771832466125 Validation Accuracy: 0.6643998622894287\n",
      "Epoch 62, CIFAR-10 Batch 3:  Loss: 0.471017986536026 Validation Accuracy: 0.662199854850769\n",
      "Epoch 62, CIFAR-10 Batch 4:  Loss: 0.49569404125213623 Validation Accuracy: 0.6583999395370483\n",
      "Epoch 62, CIFAR-10 Batch 5:  Loss: 0.47925129532814026 Validation Accuracy: 0.6565998792648315\n",
      "Epoch 63, CIFAR-10 Batch 1:  Loss: 0.5438456535339355 Validation Accuracy: 0.6601998805999756\n",
      "Epoch 63, CIFAR-10 Batch 2:  Loss: 0.5190486907958984 Validation Accuracy: 0.66159987449646\n",
      "Epoch 63, CIFAR-10 Batch 3:  Loss: 0.48939085006713867 Validation Accuracy: 0.6583999395370483\n",
      "Epoch 63, CIFAR-10 Batch 4:  Loss: 0.4816598892211914 Validation Accuracy: 0.6617998480796814\n",
      "Epoch 63, CIFAR-10 Batch 5:  Loss: 0.4772834777832031 Validation Accuracy: 0.6523998379707336\n",
      "Epoch 64, CIFAR-10 Batch 1:  Loss: 0.5043061971664429 Validation Accuracy: 0.6597998738288879\n",
      "Epoch 64, CIFAR-10 Batch 2:  Loss: 0.5030533075332642 Validation Accuracy: 0.6581999659538269\n",
      "Epoch 64, CIFAR-10 Batch 3:  Loss: 0.4524599015712738 Validation Accuracy: 0.6613998413085938\n",
      "Epoch 64, CIFAR-10 Batch 4:  Loss: 0.4681180417537689 Validation Accuracy: 0.6575998663902283\n",
      "Epoch 64, CIFAR-10 Batch 5:  Loss: 0.4390874207019806 Validation Accuracy: 0.6517999172210693\n",
      "Epoch 65, CIFAR-10 Batch 1:  Loss: 0.5024390816688538 Validation Accuracy: 0.6599998474121094\n",
      "Epoch 65, CIFAR-10 Batch 2:  Loss: 0.5106208324432373 Validation Accuracy: 0.6581999063491821\n",
      "Epoch 65, CIFAR-10 Batch 3:  Loss: 0.4638536274433136 Validation Accuracy: 0.6607998609542847\n",
      "Epoch 65, CIFAR-10 Batch 4:  Loss: 0.46831780672073364 Validation Accuracy: 0.6579999327659607\n",
      "Epoch 65, CIFAR-10 Batch 5:  Loss: 0.4202737510204315 Validation Accuracy: 0.6611998677253723\n",
      "Epoch 66, CIFAR-10 Batch 1:  Loss: 0.4895677864551544 Validation Accuracy: 0.660399854183197\n",
      "Epoch 66, CIFAR-10 Batch 2:  Loss: 0.5009196996688843 Validation Accuracy: 0.6583998799324036\n",
      "Epoch 66, CIFAR-10 Batch 3:  Loss: 0.477727472782135 Validation Accuracy: 0.6585999131202698\n",
      "Epoch 66, CIFAR-10 Batch 4:  Loss: 0.4811885952949524 Validation Accuracy: 0.6493999361991882\n",
      "Epoch 66, CIFAR-10 Batch 5:  Loss: 0.4324261546134949 Validation Accuracy: 0.6569998860359192\n",
      "Epoch 67, CIFAR-10 Batch 1:  Loss: 0.5041936635971069 Validation Accuracy: 0.6563999056816101\n",
      "Epoch 67, CIFAR-10 Batch 2:  Loss: 0.4683454632759094 Validation Accuracy: 0.6611998677253723\n",
      "Epoch 67, CIFAR-10 Batch 3:  Loss: 0.45666569471359253 Validation Accuracy: 0.6649999022483826\n",
      "Epoch 67, CIFAR-10 Batch 4:  Loss: 0.45024019479751587 Validation Accuracy: 0.6609998345375061\n",
      "Epoch 67, CIFAR-10 Batch 5:  Loss: 0.4311593770980835 Validation Accuracy: 0.6519999504089355\n",
      "Epoch 68, CIFAR-10 Batch 1:  Loss: 0.515270471572876 Validation Accuracy: 0.6569998264312744\n",
      "Epoch 68, CIFAR-10 Batch 2:  Loss: 0.4769471287727356 Validation Accuracy: 0.6609998941421509\n",
      "Epoch 68, CIFAR-10 Batch 3:  Loss: 0.48248305916786194 Validation Accuracy: 0.6619998812675476\n",
      "Epoch 68, CIFAR-10 Batch 4:  Loss: 0.4629528224468231 Validation Accuracy: 0.6543998718261719\n",
      "Epoch 68, CIFAR-10 Batch 5:  Loss: 0.43283218145370483 Validation Accuracy: 0.656799852848053\n",
      "Epoch 69, CIFAR-10 Batch 1:  Loss: 0.503298819065094 Validation Accuracy: 0.6583998203277588\n",
      "Epoch 69, CIFAR-10 Batch 2:  Loss: 0.4838734269142151 Validation Accuracy: 0.662199854850769\n",
      "Epoch 69, CIFAR-10 Batch 3:  Loss: 0.45094555616378784 Validation Accuracy: 0.6653998494148254\n",
      "Epoch 69, CIFAR-10 Batch 4:  Loss: 0.4575919210910797 Validation Accuracy: 0.6607998609542847\n",
      "Epoch 69, CIFAR-10 Batch 5:  Loss: 0.42375442385673523 Validation Accuracy: 0.6627998352050781\n",
      "Epoch 70, CIFAR-10 Batch 1:  Loss: 0.4843207895755768 Validation Accuracy: 0.6629998683929443\n",
      "Epoch 70, CIFAR-10 Batch 2:  Loss: 0.4775722026824951 Validation Accuracy: 0.6605998277664185\n",
      "Epoch 70, CIFAR-10 Batch 3:  Loss: 0.44836288690567017 Validation Accuracy: 0.6597998738288879\n",
      "Epoch 70, CIFAR-10 Batch 4:  Loss: 0.4360107183456421 Validation Accuracy: 0.662199854850769\n",
      "Epoch 70, CIFAR-10 Batch 5:  Loss: 0.4137094020843506 Validation Accuracy: 0.6597998738288879\n",
      "Epoch 71, CIFAR-10 Batch 1:  Loss: 0.4839564263820648 Validation Accuracy: 0.6673998832702637\n",
      "Epoch 71, CIFAR-10 Batch 2:  Loss: 0.4750784635543823 Validation Accuracy: 0.6671999096870422\n",
      "Epoch 71, CIFAR-10 Batch 3:  Loss: 0.45166149735450745 Validation Accuracy: 0.6563999056816101\n",
      "Epoch 71, CIFAR-10 Batch 4:  Loss: 0.4255984127521515 Validation Accuracy: 0.6575998663902283\n",
      "Epoch 71, CIFAR-10 Batch 5:  Loss: 0.41588205099105835 Validation Accuracy: 0.6589998602867126\n",
      "Epoch 72, CIFAR-10 Batch 1:  Loss: 0.49746453762054443 Validation Accuracy: 0.6551998853683472\n",
      "Epoch 72, CIFAR-10 Batch 2:  Loss: 0.47872215509414673 Validation Accuracy: 0.6551999449729919\n",
      "Epoch 72, CIFAR-10 Batch 3:  Loss: 0.4545131027698517 Validation Accuracy: 0.6589999198913574\n",
      "Epoch 72, CIFAR-10 Batch 4:  Loss: 0.42541277408599854 Validation Accuracy: 0.6573998928070068\n",
      "Epoch 72, CIFAR-10 Batch 5:  Loss: 0.42351335287094116 Validation Accuracy: 0.654999852180481\n",
      "Epoch 73, CIFAR-10 Batch 1:  Loss: 0.492563933134079 Validation Accuracy: 0.6651999354362488\n",
      "Epoch 73, CIFAR-10 Batch 2:  Loss: 0.47102242708206177 Validation Accuracy: 0.6611998677253723\n",
      "Epoch 73, CIFAR-10 Batch 3:  Loss: 0.4399406611919403 Validation Accuracy: 0.6563998460769653\n",
      "Epoch 73, CIFAR-10 Batch 4:  Loss: 0.44487708806991577 Validation Accuracy: 0.6469998359680176\n",
      "Epoch 73, CIFAR-10 Batch 5:  Loss: 0.39997780323028564 Validation Accuracy: 0.6543999314308167\n",
      "Epoch 74, CIFAR-10 Batch 1:  Loss: 0.4632439911365509 Validation Accuracy: 0.6645998358726501\n",
      "Epoch 74, CIFAR-10 Batch 2:  Loss: 0.4879648983478546 Validation Accuracy: 0.6593998670578003\n",
      "Epoch 74, CIFAR-10 Batch 3:  Loss: 0.43463370203971863 Validation Accuracy: 0.662199854850769\n",
      "Epoch 74, CIFAR-10 Batch 4:  Loss: 0.43467020988464355 Validation Accuracy: 0.6555998921394348\n",
      "Epoch 74, CIFAR-10 Batch 5:  Loss: 0.4097070097923279 Validation Accuracy: 0.6595999002456665\n",
      "Epoch 75, CIFAR-10 Batch 1:  Loss: 0.46659940481185913 Validation Accuracy: 0.6617999076843262\n",
      "Epoch 75, CIFAR-10 Batch 2:  Loss: 0.48959511518478394 Validation Accuracy: 0.644399881362915\n",
      "Epoch 75, CIFAR-10 Batch 3:  Loss: 0.43815168738365173 Validation Accuracy: 0.6555998921394348\n",
      "Epoch 75, CIFAR-10 Batch 4:  Loss: 0.43540000915527344 Validation Accuracy: 0.6521998643875122\n",
      "Epoch 75, CIFAR-10 Batch 5:  Loss: 0.39665746688842773 Validation Accuracy: 0.6567999124526978\n",
      "Epoch 76, CIFAR-10 Batch 1:  Loss: 0.47275763750076294 Validation Accuracy: 0.6613998413085938\n",
      "Epoch 76, CIFAR-10 Batch 2:  Loss: 0.44218260049819946 Validation Accuracy: 0.6601998805999756\n",
      "Epoch 76, CIFAR-10 Batch 3:  Loss: 0.4297932982444763 Validation Accuracy: 0.6583999395370483\n",
      "Epoch 76, CIFAR-10 Batch 4:  Loss: 0.4270094335079193 Validation Accuracy: 0.6483998894691467\n",
      "Epoch 76, CIFAR-10 Batch 5:  Loss: 0.4038424789905548 Validation Accuracy: 0.6479998826980591\n",
      "Epoch 77, CIFAR-10 Batch 1:  Loss: 0.46950197219848633 Validation Accuracy: 0.6519998908042908\n",
      "Epoch 77, CIFAR-10 Batch 2:  Loss: 0.44251254200935364 Validation Accuracy: 0.655799925327301\n",
      "Epoch 77, CIFAR-10 Batch 3:  Loss: 0.4358065724372864 Validation Accuracy: 0.6635999083518982\n",
      "Epoch 77, CIFAR-10 Batch 4:  Loss: 0.42518526315689087 Validation Accuracy: 0.6479998230934143\n",
      "Epoch 77, CIFAR-10 Batch 5:  Loss: 0.382802277803421 Validation Accuracy: 0.658599853515625\n",
      "Epoch 78, CIFAR-10 Batch 1:  Loss: 0.46883755922317505 Validation Accuracy: 0.6565998792648315\n",
      "Epoch 78, CIFAR-10 Batch 2:  Loss: 0.4654484689235687 Validation Accuracy: 0.6543998718261719\n",
      "Epoch 78, CIFAR-10 Batch 3:  Loss: 0.4205564856529236 Validation Accuracy: 0.6583998799324036\n",
      "Epoch 78, CIFAR-10 Batch 4:  Loss: 0.41053301095962524 Validation Accuracy: 0.6567999124526978\n",
      "Epoch 78, CIFAR-10 Batch 5:  Loss: 0.4074879288673401 Validation Accuracy: 0.6513999104499817\n",
      "Epoch 79, CIFAR-10 Batch 1:  Loss: 0.48355555534362793 Validation Accuracy: 0.655799925327301\n",
      "Epoch 79, CIFAR-10 Batch 2:  Loss: 0.4481569230556488 Validation Accuracy: 0.653999924659729\n",
      "Epoch 79, CIFAR-10 Batch 3:  Loss: 0.42111653089523315 Validation Accuracy: 0.6601998805999756\n",
      "Epoch 79, CIFAR-10 Batch 4:  Loss: 0.4090740382671356 Validation Accuracy: 0.6601998805999756\n",
      "Epoch 79, CIFAR-10 Batch 5:  Loss: 0.415054053068161 Validation Accuracy: 0.6461999416351318\n",
      "Epoch 80, CIFAR-10 Batch 1:  Loss: 0.4739367961883545 Validation Accuracy: 0.660399854183197\n",
      "Epoch 80, CIFAR-10 Batch 2:  Loss: 0.46185460686683655 Validation Accuracy: 0.6555998921394348\n",
      "Epoch 80, CIFAR-10 Batch 3:  Loss: 0.4108288884162903 Validation Accuracy: 0.6589998602867126\n",
      "Epoch 80, CIFAR-10 Batch 4:  Loss: 0.41921308636665344 Validation Accuracy: 0.6471999287605286\n",
      "Epoch 80, CIFAR-10 Batch 5:  Loss: 0.39572760462760925 Validation Accuracy: 0.6485998630523682\n",
      "Epoch 81, CIFAR-10 Batch 1:  Loss: 0.44942283630371094 Validation Accuracy: 0.6583998799324036\n",
      "Epoch 81, CIFAR-10 Batch 2:  Loss: 0.4620975852012634 Validation Accuracy: 0.6567999124526978\n",
      "Epoch 81, CIFAR-10 Batch 3:  Loss: 0.4201051890850067 Validation Accuracy: 0.6617999076843262\n",
      "Epoch 81, CIFAR-10 Batch 4:  Loss: 0.41153138875961304 Validation Accuracy: 0.6491998434066772\n",
      "Epoch 81, CIFAR-10 Batch 5:  Loss: 0.3877025842666626 Validation Accuracy: 0.6513999104499817\n",
      "Epoch 82, CIFAR-10 Batch 1:  Loss: 0.4507920444011688 Validation Accuracy: 0.6589998602867126\n",
      "Epoch 82, CIFAR-10 Batch 2:  Loss: 0.4694308936595917 Validation Accuracy: 0.653799831867218\n",
      "Epoch 82, CIFAR-10 Batch 3:  Loss: 0.4229520261287689 Validation Accuracy: 0.6597999334335327\n",
      "Epoch 82, CIFAR-10 Batch 4:  Loss: 0.39374542236328125 Validation Accuracy: 0.649199903011322\n",
      "Epoch 82, CIFAR-10 Batch 5:  Loss: 0.3826751708984375 Validation Accuracy: 0.6485999226570129\n",
      "Epoch 83, CIFAR-10 Batch 1:  Loss: 0.44284799695014954 Validation Accuracy: 0.6497998237609863\n",
      "Epoch 83, CIFAR-10 Batch 2:  Loss: 0.44730326533317566 Validation Accuracy: 0.6503998637199402\n",
      "Epoch 83, CIFAR-10 Batch 3:  Loss: 0.40708696842193604 Validation Accuracy: 0.6535999178886414\n",
      "Epoch 83, CIFAR-10 Batch 4:  Loss: 0.3843756318092346 Validation Accuracy: 0.6521998643875122\n",
      "Epoch 83, CIFAR-10 Batch 5:  Loss: 0.3718642592430115 Validation Accuracy: 0.6475998759269714\n",
      "Epoch 84, CIFAR-10 Batch 1:  Loss: 0.4577648639678955 Validation Accuracy: 0.6547999382019043\n",
      "Epoch 84, CIFAR-10 Batch 2:  Loss: 0.4423670172691345 Validation Accuracy: 0.6545998454093933\n",
      "Epoch 84, CIFAR-10 Batch 3:  Loss: 0.42854589223861694 Validation Accuracy: 0.663399875164032\n",
      "Epoch 84, CIFAR-10 Batch 4:  Loss: 0.4198516011238098 Validation Accuracy: 0.6499998569488525\n",
      "Epoch 84, CIFAR-10 Batch 5:  Loss: 0.3821415901184082 Validation Accuracy: 0.649199903011322\n",
      "Epoch 85, CIFAR-10 Batch 1:  Loss: 0.4829617440700531 Validation Accuracy: 0.6415998935699463\n",
      "Epoch 85, CIFAR-10 Batch 2:  Loss: 0.47086673974990845 Validation Accuracy: 0.6471999287605286\n",
      "Epoch 85, CIFAR-10 Batch 3:  Loss: 0.4054490029811859 Validation Accuracy: 0.6581999063491821\n",
      "Epoch 85, CIFAR-10 Batch 4:  Loss: 0.39265623688697815 Validation Accuracy: 0.6517998576164246\n",
      "Epoch 85, CIFAR-10 Batch 5:  Loss: 0.42619773745536804 Validation Accuracy: 0.637799859046936\n",
      "Epoch 86, CIFAR-10 Batch 1:  Loss: 0.453874796628952 Validation Accuracy: 0.6487998962402344\n",
      "Epoch 86, CIFAR-10 Batch 2:  Loss: 0.41757309436798096 Validation Accuracy: 0.6519998908042908\n",
      "Epoch 86, CIFAR-10 Batch 3:  Loss: 0.39770567417144775 Validation Accuracy: 0.6619998812675476\n",
      "Epoch 86, CIFAR-10 Batch 4:  Loss: 0.3977155387401581 Validation Accuracy: 0.6497998833656311\n",
      "Epoch 86, CIFAR-10 Batch 5:  Loss: 0.38080310821533203 Validation Accuracy: 0.6419999003410339\n",
      "Epoch 87, CIFAR-10 Batch 1:  Loss: 0.4761202037334442 Validation Accuracy: 0.6387999057769775\n",
      "Epoch 87, CIFAR-10 Batch 2:  Loss: 0.41682168841362 Validation Accuracy: 0.6521998643875122\n",
      "Epoch 87, CIFAR-10 Batch 3:  Loss: 0.41227278113365173 Validation Accuracy: 0.6623998880386353\n",
      "Epoch 87, CIFAR-10 Batch 4:  Loss: 0.40634647011756897 Validation Accuracy: 0.6525999307632446\n",
      "Epoch 87, CIFAR-10 Batch 5:  Loss: 0.3864680528640747 Validation Accuracy: 0.6427999138832092\n",
      "Epoch 88, CIFAR-10 Batch 1:  Loss: 0.46578118205070496 Validation Accuracy: 0.6459998488426208\n",
      "Epoch 88, CIFAR-10 Batch 2:  Loss: 0.4208841919898987 Validation Accuracy: 0.6559998989105225\n",
      "Epoch 88, CIFAR-10 Batch 3:  Loss: 0.3821554183959961 Validation Accuracy: 0.660599946975708\n",
      "Epoch 88, CIFAR-10 Batch 4:  Loss: 0.38592806458473206 Validation Accuracy: 0.6553999185562134\n",
      "Epoch 88, CIFAR-10 Batch 5:  Loss: 0.3613070845603943 Validation Accuracy: 0.6413998603820801\n",
      "Epoch 89, CIFAR-10 Batch 1:  Loss: 0.43301260471343994 Validation Accuracy: 0.6467999219894409\n",
      "Epoch 89, CIFAR-10 Batch 2:  Loss: 0.44630828499794006 Validation Accuracy: 0.650199830532074\n",
      "Epoch 89, CIFAR-10 Batch 3:  Loss: 0.3907604515552521 Validation Accuracy: 0.6571998596191406\n",
      "Epoch 89, CIFAR-10 Batch 4:  Loss: 0.3572554588317871 Validation Accuracy: 0.6605998873710632\n",
      "Epoch 89, CIFAR-10 Batch 5:  Loss: 0.37897783517837524 Validation Accuracy: 0.6469998955726624\n",
      "Epoch 90, CIFAR-10 Batch 1:  Loss: 0.4454304277896881 Validation Accuracy: 0.6429999470710754\n",
      "Epoch 90, CIFAR-10 Batch 2:  Loss: 0.40006133913993835 Validation Accuracy: 0.6577998995780945\n",
      "Epoch 90, CIFAR-10 Batch 3:  Loss: 0.3956628441810608 Validation Accuracy: 0.660399854183197\n",
      "Epoch 90, CIFAR-10 Batch 4:  Loss: 0.3965890109539032 Validation Accuracy: 0.6521998643875122\n",
      "Epoch 90, CIFAR-10 Batch 5:  Loss: 0.3748991787433624 Validation Accuracy: 0.6425999402999878\n"
     ]
    }
   ],
   "source": [
    "\"\"\"\n",
    "DON'T MODIFY ANYTHING IN THIS CELL\n",
    "\"\"\"\n",
    "save_model_path = './image_classification'\n",
    "\n",
    "print('Training...')\n",
    "with tf.Session() as sess:\n",
    "    # Initializing the variables\n",
    "    sess.run(tf.global_variables_initializer())\n",
    "    \n",
    "    # Training cycle\n",
    "    for epoch in range(epochs):\n",
    "        # Loop over all batches\n",
    "        n_batches = 5\n",
    "        for batch_i in range(1, n_batches + 1):\n",
    "            for batch_features, batch_labels in helper.load_preprocess_training_batch(batch_i, batch_size):\n",
    "                train_neural_network(sess, optimizer, keep_probability, batch_features, batch_labels)\n",
    "            print('Epoch {:>2}, CIFAR-10 Batch {}:  '.format(epoch + 1, batch_i), end='')\n",
    "            print_stats(sess, batch_features, batch_labels, cost, accuracy)\n",
    "            \n",
    "    # Save Model\n",
    "    saver = tf.train.Saver()\n",
    "    save_path = saver.save(sess, save_model_path)"
   ]
  },
  {
   "cell_type": "markdown",
   "metadata": {
    "deletable": true,
    "editable": true
   },
   "source": [
    "# Checkpoint\n",
    "The model has been saved to disk.\n",
    "## Test Model\n",
    "Test your model against the test dataset.  This will be your final accuracy. You should have an accuracy greater than 50%. If you don't, keep tweaking the model architecture and parameters."
   ]
  },
  {
   "cell_type": "code",
   "execution_count": 161,
   "metadata": {
    "collapsed": false,
    "deletable": true,
    "editable": true
   },
   "outputs": [
    {
     "name": "stdout",
     "output_type": "stream",
     "text": [
      "Testing Accuracy: 0.6408030807971954\n",
      "\n"
     ]
    },
    {
     "data": {
      "image/png": "[encoded data removed]",
      "text/plain": [
       "<matplotlib.figure.Figure at 0x7f8cf686c710>"
      ]
     },
     "metadata": {
      "image/png": {
       "height": 319,
       "width": 355
      }
     },
     "output_type": "display_data"
    }
   ],
   "source": [
    "\"\"\"\n",
    "DON'T MODIFY ANYTHING IN THIS CELL\n",
    "\"\"\"\n",
    "%matplotlib inline\n",
    "%config InlineBackend.figure_format = 'retina'\n",
    "\n",
    "import tensorflow as tf\n",
    "import pickle\n",
    "import helper\n",
    "import random\n",
    "\n",
    "# Set batch size if not already set\n",
    "try:\n",
    "    if batch_size:\n",
    "        pass\n",
    "except NameError:\n",
    "    batch_size = 64\n",
    "\n",
    "save_model_path = './image_classification'\n",
    "n_samples = 4\n",
    "top_n_predictions = 3\n",
    "\n",
    "def test_model():\n",
    "    \"\"\"\n",
    "    Test the saved model against the test dataset\n",
    "    \"\"\"\n",
    "\n",
    "    test_features, test_labels = pickle.load(open('preprocess_training.p', mode='rb'))\n",
    "    loaded_graph = tf.Graph()\n",
    "\n",
    "    with tf.Session(graph=loaded_graph) as sess:\n",
    "        # Load model\n",
    "        loader = tf.train.import_meta_graph(save_model_path + '.meta')\n",
    "        loader.restore(sess, save_model_path)\n",
    "\n",
    "        # Get Tensors from loaded model\n",
    "        loaded_x = loaded_graph.get_tensor_by_name('x:0')\n",
    "        loaded_y = loaded_graph.get_tensor_by_name('y:0')\n",
    "        loaded_keep_prob = loaded_graph.get_tensor_by_name('keep_prob:0')\n",
    "        loaded_logits = loaded_graph.get_tensor_by_name('logits:0')\n",
    "        loaded_acc = loaded_graph.get_tensor_by_name('accuracy:0')\n",
    "        \n",
    "        # Get accuracy in batches for memory limitations\n",
    "        test_batch_acc_total = 0\n",
    "        test_batch_count = 0\n",
    "        \n",
    "        for train_feature_batch, train_label_batch in helper.batch_features_labels(test_features, test_labels, batch_size):\n",
    "            test_batch_acc_total += sess.run(\n",
    "                loaded_acc,\n",
    "                feed_dict={loaded_x: train_feature_batch, loaded_y: train_label_batch, loaded_keep_prob: 1.0})\n",
    "            test_batch_count += 1\n",
    "\n",
    "        print('Testing Accuracy: {}\\n'.format(test_batch_acc_total/test_batch_count))\n",
    "\n",
    "        # Print Random Samples\n",
    "        random_test_features, random_test_labels = tuple(zip(*random.sample(list(zip(test_features, test_labels)), n_samples)))\n",
    "        random_test_predictions = sess.run(\n",
    "            tf.nn.top_k(tf.nn.softmax(loaded_logits), top_n_predictions),\n",
    "            feed_dict={loaded_x: random_test_features, loaded_y: random_test_labels, loaded_keep_prob: 1.0})\n",
    "        helper.display_image_predictions(random_test_features, random_test_labels, random_test_predictions)\n",
    "\n",
    "\n",
    "test_model()"
   ]
  },
  {
   "cell_type": "markdown",
   "metadata": {
    "deletable": true,
    "editable": true
   },
   "source": [
    "## Why 50-70% Accuracy?\n",
    "You might be wondering why you can't get an accuracy any higher. First things first, 50% isn't bad for a simple CNN.  Pure guessing would get you 10% accuracy. However, you might notice people are getting scores [well above 70%](http://rodrigob.github.io/are_we_there_yet/build/classification_datasets_results.html#43494641522d3130).  That's because we haven't taught you all there is to know about neural networks. We still need to cover a few more techniques.\n",
    "## Submitting This Project\n",
    "When submitting this project, make sure to run all the cells before saving the notebook.  Save the notebook file as \"dlnd_image_classification.ipynb\" and save it as a HTML file under \"File\" -> \"Download as\".  Include the \"helper.py\" and \"problem_unittests.py\" files in your submission."
   ]
  }
 ],
 "metadata": {
  "kernelspec": {
   "display_name": "Python 3",
   "language": "python",
   "name": "python3"
  },
  "language_info": {
   "codemirror_mode": {
    "name": "ipython",
    "version": 3
   },
   "file_extension": ".py",
   "mimetype": "text/x-python",
   "name": "python",
   "nbconvert_exporter": "python",
   "pygments_lexer": "ipython3",
   "version": "3.5.3"
  }
 },
 "nbformat": 4,
 "nbformat_minor": 0
}
